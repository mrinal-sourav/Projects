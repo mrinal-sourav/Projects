{
 "cells": [
  {
   "cell_type": "code",
   "execution_count": 1,
   "metadata": {},
   "outputs": [
    {
     "name": "stderr",
     "output_type": "stream",
     "text": [
      "c:\\users\\mrinal\\appdata\\local\\programs\\python\\python36\\lib\\site-packages\\h5py\\__init__.py:36: FutureWarning: Conversion of the second argument of issubdtype from `float` to `np.floating` is deprecated. In future, it will be treated as `np.float64 == np.dtype(float).type`.\n",
      "  from ._conv import register_converters as _register_converters\n",
      "Using TensorFlow backend.\n"
     ]
    }
   ],
   "source": [
    "from keras.models import load_model, Sequential, save_model\n",
    "from keras.layers import Dense, Dropout\n",
    "import h5py\n",
    "import numpy as np"
   ]
  },
  {
   "cell_type": "code",
   "execution_count": 2,
   "metadata": {},
   "outputs": [],
   "source": [
    "train_inputs = np.load('training_data/train_inputs_para_30.npy')"
   ]
  },
  {
   "cell_type": "code",
   "execution_count": 3,
   "metadata": {},
   "outputs": [],
   "source": [
    "train_targets = np.load('training_data/train_targets_para_30.npy')"
   ]
  },
  {
   "cell_type": "code",
   "execution_count": 5,
   "metadata": {},
   "outputs": [
    {
     "data": {
      "text/plain": [
       "6997003"
      ]
     },
     "execution_count": 5,
     "metadata": {},
     "output_type": "execute_result"
    }
   ],
   "source": [
    "len(train_inputs)"
   ]
  },
  {
   "cell_type": "code",
   "execution_count": 6,
   "metadata": {},
   "outputs": [
    {
     "data": {
      "text/plain": [
       "6997003"
      ]
     },
     "execution_count": 6,
     "metadata": {},
     "output_type": "execute_result"
    }
   ],
   "source": [
    "len(train_targets)"
   ]
  },
  {
   "cell_type": "code",
   "execution_count": 7,
   "metadata": {},
   "outputs": [],
   "source": [
    "model = Sequential()\n",
    "model.add(Dense(8, input_dim=8, activation='relu'))\n",
    "model.add(Dense(10, activation='relu'))\n",
    "model.add(Dense(100, activation='relu'))\n",
    "model.add(Dense(300, activation='relu'))\n",
    "model.add(Dense(200, activation='relu'))\n",
    "model.add(Dense(50, activation='relu'))\n",
    "model.add(Dense(20, activation='relu'))\n",
    "model.add(Dense(5, activation='relu'))\n",
    "model.add(Dense(1, activation='relu'))\n",
    "\n",
    "model.compile(loss='mean_squared_error', optimizer='nadam', metrics=['accuracy'])"
   ]
  },
  {
   "cell_type": "code",
   "execution_count": 8,
   "metadata": {},
   "outputs": [
    {
     "name": "stdout",
     "output_type": "stream",
     "text": [
      "Train on 5597602 samples, validate on 1399401 samples\n",
      "Epoch 1/60\n",
      "5597602/5597602 [==============================] - 16s 3us/step - loss: 318.1623 - acc: 0.0370 - val_loss: 302.3679 - val_acc: 0.0399\n",
      "Epoch 2/60\n",
      "5597602/5597602 [==============================] - 12s 2us/step - loss: 301.5783 - acc: 0.0342 - val_loss: 293.1344 - val_acc: 0.0398\n",
      "Epoch 3/60\n",
      "5597602/5597602 [==============================] - 12s 2us/step - loss: 284.9623 - acc: 0.0545 - val_loss: 275.9262 - val_acc: 0.0691\n",
      "Epoch 4/60\n",
      "5597602/5597602 [==============================] - 12s 2us/step - loss: 279.2021 - acc: 0.0471 - val_loss: 274.8771 - val_acc: 0.0355\n",
      "Epoch 5/60\n",
      "5597602/5597602 [==============================] - 12s 2us/step - loss: 276.6287 - acc: 0.0912 - val_loss: 273.2070 - val_acc: 0.0917\n",
      "Epoch 6/60\n",
      "5597602/5597602 [==============================] - 12s 2us/step - loss: 274.6860 - acc: 0.1091 - val_loss: 270.3302 - val_acc: 0.1277\n",
      "Epoch 7/60\n",
      "5597602/5597602 [==============================] - 12s 2us/step - loss: 273.5400 - acc: 0.1153 - val_loss: 270.4568 - val_acc: 0.0874\n",
      "Epoch 8/60\n",
      "5597602/5597602 [==============================] - 12s 2us/step - loss: 272.4439 - acc: 0.1203 - val_loss: 269.3894 - val_acc: 0.0839\n",
      "Epoch 9/60\n",
      "5597602/5597602 [==============================] - 12s 2us/step - loss: 271.7257 - acc: 0.1211 - val_loss: 269.7271 - val_acc: 0.1420\n",
      "Epoch 10/60\n",
      "5597602/5597602 [==============================] - 12s 2us/step - loss: 271.2431 - acc: 0.1240 - val_loss: 269.3234 - val_acc: 0.1471\n",
      "Epoch 11/60\n",
      "5597602/5597602 [==============================] - 12s 2us/step - loss: 270.7375 - acc: 0.1268 - val_loss: 268.2773 - val_acc: 0.1064\n",
      "Epoch 12/60\n",
      "5597602/5597602 [==============================] - 12s 2us/step - loss: 270.3613 - acc: 0.1258 - val_loss: 268.0270 - val_acc: 0.1516\n",
      "Epoch 13/60\n",
      "5597602/5597602 [==============================] - 12s 2us/step - loss: 269.9728 - acc: 0.1276 - val_loss: 267.8497 - val_acc: 0.1207\n",
      "Epoch 14/60\n",
      "5597602/5597602 [==============================] - 12s 2us/step - loss: 269.5483 - acc: 0.1287 - val_loss: 268.0124 - val_acc: 0.1265\n",
      "Epoch 15/60\n",
      "5597602/5597602 [==============================] - 12s 2us/step - loss: 269.4125 - acc: 0.1294 - val_loss: 268.5998 - val_acc: 0.0850\n",
      "Epoch 16/60\n",
      "5597602/5597602 [==============================] - 12s 2us/step - loss: 269.0910 - acc: 0.1301 - val_loss: 267.2862 - val_acc: 0.1215\n",
      "Epoch 17/60\n",
      "5597602/5597602 [==============================] - 12s 2us/step - loss: 268.7500 - acc: 0.1310 - val_loss: 267.1118 - val_acc: 0.1376\n",
      "Epoch 18/60\n",
      "5597602/5597602 [==============================] - 12s 2us/step - loss: 268.4428 - acc: 0.1309 - val_loss: 267.5613 - val_acc: 0.1129\n",
      "Epoch 19/60\n",
      "5597602/5597602 [==============================] - 12s 2us/step - loss: 268.2323 - acc: 0.1313 - val_loss: 267.2245 - val_acc: 0.1139\n",
      "Epoch 20/60\n",
      "5597602/5597602 [==============================] - 12s 2us/step - loss: 267.8673 - acc: 0.1326 - val_loss: 266.9772 - val_acc: 0.1402\n",
      "Epoch 21/60\n",
      "5597602/5597602 [==============================] - 12s 2us/step - loss: 267.6896 - acc: 0.1328 - val_loss: 266.0400 - val_acc: 0.1428\n",
      "Epoch 22/60\n",
      "5597602/5597602 [==============================] - 12s 2us/step - loss: 267.3300 - acc: 0.1332 - val_loss: 266.0082 - val_acc: 0.1180\n",
      "Epoch 23/60\n",
      "5597602/5597602 [==============================] - 12s 2us/step - loss: 267.0562 - acc: 0.1337 - val_loss: 267.7421 - val_acc: 0.1049\n",
      "Epoch 24/60\n",
      "5597602/5597602 [==============================] - 12s 2us/step - loss: 266.7797 - acc: 0.1341 - val_loss: 266.1679 - val_acc: 0.1118\n",
      "Epoch 25/60\n",
      "5597602/5597602 [==============================] - 12s 2us/step - loss: 266.4842 - acc: 0.1347 - val_loss: 265.8769 - val_acc: 0.1541\n",
      "Epoch 26/60\n",
      "5597602/5597602 [==============================] - 12s 2us/step - loss: 266.1691 - acc: 0.1350 - val_loss: 266.1363 - val_acc: 0.1208\n",
      "Epoch 27/60\n",
      "5597602/5597602 [==============================] - 12s 2us/step - loss: 265.9927 - acc: 0.1353 - val_loss: 264.6747 - val_acc: 0.1304\n",
      "Epoch 28/60\n",
      "5597602/5597602 [==============================] - 13s 2us/step - loss: 265.6807 - acc: 0.1354 - val_loss: 264.7809 - val_acc: 0.1479\n",
      "Epoch 29/60\n",
      "5597602/5597602 [==============================] - 13s 2us/step - loss: 265.4860 - acc: 0.1350 - val_loss: 266.3540 - val_acc: 0.1568\n",
      "Epoch 30/60\n",
      "5597602/5597602 [==============================] - 12s 2us/step - loss: 265.2975 - acc: 0.1362 - val_loss: 265.0270 - val_acc: 0.1498\n",
      "Epoch 31/60\n",
      "5597602/5597602 [==============================] - 13s 2us/step - loss: 264.9662 - acc: 0.1373 - val_loss: 266.3327 - val_acc: 0.1445\n",
      "Epoch 32/60\n",
      "5597602/5597602 [==============================] - 12s 2us/step - loss: 264.7396 - acc: 0.1377 - val_loss: 264.4784 - val_acc: 0.1536\n",
      "Epoch 33/60\n",
      "5597602/5597602 [==============================] - 12s 2us/step - loss: 264.4701 - acc: 0.1387 - val_loss: 264.8324 - val_acc: 0.1468\n",
      "Epoch 34/60\n",
      "5597602/5597602 [==============================] - 12s 2us/step - loss: 264.2641 - acc: 0.1386 - val_loss: 265.8681 - val_acc: 0.1325\n",
      "Epoch 35/60\n",
      "5597602/5597602 [==============================] - 12s 2us/step - loss: 264.0735 - acc: 0.1394 - val_loss: 264.6067 - val_acc: 0.1423\n",
      "Epoch 36/60\n",
      "5597602/5597602 [==============================] - 11s 2us/step - loss: 263.7059 - acc: 0.1406 - val_loss: 264.9897 - val_acc: 0.1498\n",
      "Epoch 37/60\n",
      "5597602/5597602 [==============================] - 11s 2us/step - loss: 263.5334 - acc: 0.1407 - val_loss: 263.2086 - val_acc: 0.1393\n",
      "Epoch 38/60\n",
      "5597602/5597602 [==============================] - 11s 2us/step - loss: 263.1983 - acc: 0.1416 - val_loss: 263.6723 - val_acc: 0.1670\n",
      "Epoch 39/60\n",
      "5597602/5597602 [==============================] - 12s 2us/step - loss: 262.9841 - acc: 0.1423 - val_loss: 263.7182 - val_acc: 0.1418\n",
      "Epoch 40/60\n",
      "5597602/5597602 [==============================] - 11s 2us/step - loss: 262.7974 - acc: 0.1424 - val_loss: 264.1565 - val_acc: 0.1458\n",
      "Epoch 41/60\n",
      "5597602/5597602 [==============================] - 12s 2us/step - loss: 262.4533 - acc: 0.1438 - val_loss: 263.1387 - val_acc: 0.1554\n",
      "Epoch 42/60\n",
      "5597602/5597602 [==============================] - 12s 2us/step - loss: 262.1584 - acc: 0.1450 - val_loss: 262.8055 - val_acc: 0.1491\n",
      "Epoch 43/60\n",
      "5597602/5597602 [==============================] - 12s 2us/step - loss: 261.7409 - acc: 0.1464 - val_loss: 262.1976 - val_acc: 0.1497\n",
      "Epoch 44/60\n",
      "5597602/5597602 [==============================] - 12s 2us/step - loss: 261.2736 - acc: 0.1486 - val_loss: 261.2081 - val_acc: 0.1552\n",
      "Epoch 45/60\n",
      "5597602/5597602 [==============================] - 12s 2us/step - loss: 259.8852 - acc: 0.1529 - val_loss: 255.8459 - val_acc: 0.1310\n",
      "Epoch 46/60\n",
      "5597602/5597602 [==============================] - 12s 2us/step - loss: 254.8762 - acc: 0.1632 - val_loss: 249.5469 - val_acc: 0.1578\n",
      "Epoch 47/60\n",
      "5597602/5597602 [==============================] - 12s 2us/step - loss: 250.4295 - acc: 0.1733 - val_loss: 251.6599 - val_acc: 0.1731\n",
      "Epoch 48/60\n",
      "5597602/5597602 [==============================] - 12s 2us/step - loss: 246.9410 - acc: 0.1801 - val_loss: 247.0533 - val_acc: 0.1786\n",
      "Epoch 49/60\n",
      "5597602/5597602 [==============================] - 12s 2us/step - loss: 244.0565 - acc: 0.1867 - val_loss: 239.9240 - val_acc: 0.1967\n",
      "Epoch 50/60\n",
      "5597602/5597602 [==============================] - 12s 2us/step - loss: 241.6862 - acc: 0.1918 - val_loss: 241.4824 - val_acc: 0.1785\n",
      "Epoch 51/60\n",
      "5597602/5597602 [==============================] - 12s 2us/step - loss: 239.8958 - acc: 0.1959 - val_loss: 241.2508 - val_acc: 0.1988\n",
      "Epoch 52/60\n",
      "5597602/5597602 [==============================] - 12s 2us/step - loss: 238.1718 - acc: 0.2001 - val_loss: 238.2013 - val_acc: 0.2006\n",
      "Epoch 53/60\n",
      "5597602/5597602 [==============================] - 12s 2us/step - loss: 236.4728 - acc: 0.2057 - val_loss: 233.5707 - val_acc: 0.2048\n",
      "Epoch 54/60\n",
      "5597602/5597602 [==============================] - 12s 2us/step - loss: 234.9052 - acc: 0.2092 - val_loss: 232.2728 - val_acc: 0.2208\n",
      "Epoch 55/60\n",
      "5597602/5597602 [==============================] - 12s 2us/step - loss: 233.5938 - acc: 0.2110 - val_loss: 234.3986 - val_acc: 0.2158\n",
      "Epoch 56/60\n"
     ]
    },
    {
     "name": "stdout",
     "output_type": "stream",
     "text": [
      "5597602/5597602 [==============================] - 12s 2us/step - loss: 232.6872 - acc: 0.2156 - val_loss: 232.7746 - val_acc: 0.2113\n",
      "Epoch 57/60\n",
      "5597602/5597602 [==============================] - 12s 2us/step - loss: 231.4310 - acc: 0.2172 - val_loss: 234.4400 - val_acc: 0.2300\n",
      "Epoch 58/60\n",
      "5597602/5597602 [==============================] - 12s 2us/step - loss: 230.3522 - acc: 0.2189 - val_loss: 234.4791 - val_acc: 0.2179\n",
      "Epoch 59/60\n",
      "5597602/5597602 [==============================] - 12s 2us/step - loss: 229.4839 - acc: 0.2205 - val_loss: 231.1951 - val_acc: 0.2313\n",
      "Epoch 60/60\n",
      "5597602/5597602 [==============================] - 12s 2us/step - loss: 228.8530 - acc: 0.2233 - val_loss: 229.0463 - val_acc: 0.2275\n"
     ]
    }
   ],
   "source": [
    "history = model.fit(train_inputs, train_targets, validation_split=0.2, epochs = 60, batch_size = 10000)"
   ]
  },
  {
   "cell_type": "code",
   "execution_count": 9,
   "metadata": {},
   "outputs": [],
   "source": [
    "save_model(model, 'models/ball_size_30_light_v2.h5')"
   ]
  },
  {
   "cell_type": "code",
   "execution_count": 11,
   "metadata": {},
   "outputs": [
    {
     "data": {
      "image/png": "[encoded data removed]",
      "text/plain": [
       "<Figure size 432x288 with 1 Axes>"
      ]
     },
     "metadata": {},
     "output_type": "display_data"
    },
    {
     "data": {
      "image/png": "[encoded data removed]",
      "text/plain": [
       "<Figure size 432x288 with 1 Axes>"
      ]
     },
     "metadata": {},
     "output_type": "display_data"
    }
   ],
   "source": [
    "import matplotlib.pyplot as plt\n",
    "\n",
    "plt.plot(history.history['acc'])\n",
    "plt.plot(history.history['val_acc'])\n",
    "plt.title('model accuracy')\n",
    "plt.ylabel('accuracy')\n",
    "plt.xlabel('epoch')\n",
    "plt.legend(['train', 'test'], loc='upper left')\n",
    "plt.show()\n",
    "# summarize history for loss\n",
    "plt.plot(history.history['loss'])\n",
    "plt.plot(history.history['val_loss'])\n",
    "plt.title('model loss')\n",
    "plt.ylabel('loss')\n",
    "plt.xlabel('epoch')\n",
    "plt.legend(['train', 'test'], loc='upper left')\n",
    "plt.show()"
   ]
  },
  {
   "cell_type": "code",
   "execution_count": null,
   "metadata": {},
   "outputs": [],
   "source": []
  }
 ],
 "metadata": {
  "kernelspec": {
   "display_name": "Python 3",
   "language": "python",
   "name": "python3"
  },
  "language_info": {
   "codemirror_mode": {
    "name": "ipython",
    "version": 3
   },
   "file_extension": ".py",
   "mimetype": "text/x-python",
   "name": "python",
   "nbconvert_exporter": "python",
   "pygments_lexer": "ipython3",
   "version": "3.6.4"
  }
 },
 "nbformat": 4,
 "nbformat_minor": 2
}
