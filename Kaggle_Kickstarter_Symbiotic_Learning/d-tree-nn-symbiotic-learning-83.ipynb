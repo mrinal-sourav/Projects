{
 "cells": [
  {
   "cell_type": "markdown",
   "metadata": {
    "_uuid": "176894540fe45a9bc307f4f05ebe7418f016b326"
   },
   "source": [
    "<h3> Imports </h3> "
   ]
  },
  {
   "cell_type": "code",
   "execution_count": 1,
   "metadata": {
    "_uuid": "31ed5dc1f51a916f66aa0b799600719e235c367c"
   },
   "outputs": [
    {
     "name": "stderr",
     "output_type": "stream",
     "text": [
      "c:\\users\\mrinal\\appdata\\local\\programs\\python\\python36\\lib\\site-packages\\h5py\\__init__.py:36: FutureWarning: Conversion of the second argument of issubdtype from `float` to `np.floating` is deprecated. In future, it will be treated as `np.float64 == np.dtype(float).type`.\n",
      "  from ._conv import register_converters as _register_converters\n",
      "Using TensorFlow backend.\n"
     ]
    }
   ],
   "source": [
    "import pandas as pd\n",
    "from datetime import datetime, timedelta\n",
    "import matplotlib.pyplot as plt \n",
    "import numpy as np \n",
    "from math import log\n",
    "import json \n",
    "import time\n",
    "from random import randint\n",
    "\n",
    "# keras imports for neural network\n",
    "from keras.models import Sequential, load_model\n",
    "from keras.layers import Dense, Dropout\n",
    "from keras import optimizers"
   ]
  },
  {
   "cell_type": "markdown",
   "metadata": {
    "_uuid": "7fad460b972efe5039a44fca586fc4c480d65ce2"
   },
   "source": [
    "<h2> Data Preparation for training and testing </h2>\n",
    "\n",
    "I see two datasets available in the task: <br>\n",
    "One seems to be from 2016, without currency conversion to USD. <br> \n",
    "Another is from 2018 with some newly added records"
   ]
  },
  {
   "cell_type": "code",
   "execution_count": 2,
   "metadata": {
    "_uuid": "79ae72159580760a66e41d9cc71f0931d6f5d40c"
   },
   "outputs": [
    {
     "name": "stderr",
     "output_type": "stream",
     "text": [
      "c:\\users\\mrinal\\appdata\\local\\programs\\python\\python36\\lib\\site-packages\\IPython\\core\\interactiveshell.py:2728: DtypeWarning: Columns (13,14,15) have mixed types. Specify dtype option on import or set low_memory=False.\n",
      "  interactivity=interactivity, compiler=compiler, result=result)\n"
     ]
    },
    {
     "data": {
      "text/html": [
       "<div>\n",
       "<style scoped>\n",
       "    .dataframe tbody tr th:only-of-type {\n",
       "        vertical-align: middle;\n",
       "    }\n",
       "\n",
       "    .dataframe tbody tr th {\n",
       "        vertical-align: top;\n",
       "    }\n",
       "\n",
       "    .dataframe thead th {\n",
       "        text-align: right;\n",
       "    }\n",
       "</style>\n",
       "<table border=\"1\" class=\"dataframe\">\n",
       "  <thead>\n",
       "    <tr style=\"text-align: right;\">\n",
       "      <th></th>\n",
       "      <th>ID</th>\n",
       "      <th>name</th>\n",
       "      <th>category</th>\n",
       "      <th>main_category</th>\n",
       "      <th>currency</th>\n",
       "      <th>deadline</th>\n",
       "      <th>goal</th>\n",
       "      <th>launched</th>\n",
       "      <th>pledged</th>\n",
       "      <th>state</th>\n",
       "      <th>backers</th>\n",
       "      <th>country</th>\n",
       "      <th>usd pledged</th>\n",
       "      <th>Unnamed: 13</th>\n",
       "      <th>Unnamed: 14</th>\n",
       "      <th>Unnamed: 15</th>\n",
       "      <th>Unnamed: 16</th>\n",
       "    </tr>\n",
       "  </thead>\n",
       "  <tbody>\n",
       "    <tr>\n",
       "      <th>0</th>\n",
       "      <td>1000002330</td>\n",
       "      <td>The Songs of Adelaide &amp; Abullah</td>\n",
       "      <td>Poetry</td>\n",
       "      <td>Publishing</td>\n",
       "      <td>GBP</td>\n",
       "      <td>2015-10-09 11:36:00</td>\n",
       "      <td>1000</td>\n",
       "      <td>2015-08-11 12:12:28</td>\n",
       "      <td>0</td>\n",
       "      <td>failed</td>\n",
       "      <td>0</td>\n",
       "      <td>GB</td>\n",
       "      <td>0</td>\n",
       "      <td>NaN</td>\n",
       "      <td>NaN</td>\n",
       "      <td>NaN</td>\n",
       "      <td>NaN</td>\n",
       "    </tr>\n",
       "    <tr>\n",
       "      <th>1</th>\n",
       "      <td>1000004038</td>\n",
       "      <td>Where is Hank?</td>\n",
       "      <td>Narrative Film</td>\n",
       "      <td>Film &amp; Video</td>\n",
       "      <td>USD</td>\n",
       "      <td>2013-02-26 00:20:50</td>\n",
       "      <td>45000</td>\n",
       "      <td>2013-01-12 00:20:50</td>\n",
       "      <td>220</td>\n",
       "      <td>failed</td>\n",
       "      <td>3</td>\n",
       "      <td>US</td>\n",
       "      <td>220</td>\n",
       "      <td>NaN</td>\n",
       "      <td>NaN</td>\n",
       "      <td>NaN</td>\n",
       "      <td>NaN</td>\n",
       "    </tr>\n",
       "    <tr>\n",
       "      <th>2</th>\n",
       "      <td>1000007540</td>\n",
       "      <td>ToshiCapital Rekordz Needs Help to Complete Album</td>\n",
       "      <td>Music</td>\n",
       "      <td>Music</td>\n",
       "      <td>USD</td>\n",
       "      <td>2012-04-16 04:24:11</td>\n",
       "      <td>5000</td>\n",
       "      <td>2012-03-17 03:24:11</td>\n",
       "      <td>1</td>\n",
       "      <td>failed</td>\n",
       "      <td>1</td>\n",
       "      <td>US</td>\n",
       "      <td>1</td>\n",
       "      <td>NaN</td>\n",
       "      <td>NaN</td>\n",
       "      <td>NaN</td>\n",
       "      <td>NaN</td>\n",
       "    </tr>\n",
       "    <tr>\n",
       "      <th>3</th>\n",
       "      <td>1000011046</td>\n",
       "      <td>Community Film Project: The Art of Neighborhoo...</td>\n",
       "      <td>Film &amp; Video</td>\n",
       "      <td>Film &amp; Video</td>\n",
       "      <td>USD</td>\n",
       "      <td>2015-08-29 01:00:00</td>\n",
       "      <td>19500</td>\n",
       "      <td>2015-07-04 08:35:03</td>\n",
       "      <td>1283</td>\n",
       "      <td>canceled</td>\n",
       "      <td>14</td>\n",
       "      <td>US</td>\n",
       "      <td>1283</td>\n",
       "      <td>NaN</td>\n",
       "      <td>NaN</td>\n",
       "      <td>NaN</td>\n",
       "      <td>NaN</td>\n",
       "    </tr>\n",
       "    <tr>\n",
       "      <th>4</th>\n",
       "      <td>1000014025</td>\n",
       "      <td>Monarch Espresso Bar</td>\n",
       "      <td>Restaurants</td>\n",
       "      <td>Food</td>\n",
       "      <td>USD</td>\n",
       "      <td>2016-04-01 13:38:27</td>\n",
       "      <td>50000</td>\n",
       "      <td>2016-02-26 13:38:27</td>\n",
       "      <td>52375</td>\n",
       "      <td>successful</td>\n",
       "      <td>224</td>\n",
       "      <td>US</td>\n",
       "      <td>52375</td>\n",
       "      <td>NaN</td>\n",
       "      <td>NaN</td>\n",
       "      <td>NaN</td>\n",
       "      <td>NaN</td>\n",
       "    </tr>\n",
       "  </tbody>\n",
       "</table>\n",
       "</div>"
      ],
      "text/plain": [
       "          ID                                               name   \\\n",
       "0  1000002330                    The Songs of Adelaide & Abullah   \n",
       "1  1000004038                                     Where is Hank?   \n",
       "2  1000007540  ToshiCapital Rekordz Needs Help to Complete Album   \n",
       "3  1000011046  Community Film Project: The Art of Neighborhoo...   \n",
       "4  1000014025                               Monarch Espresso Bar   \n",
       "\n",
       "        category  main_category  currency             deadline   goal   \\\n",
       "0          Poetry     Publishing       GBP  2015-10-09 11:36:00   1000   \n",
       "1  Narrative Film   Film & Video       USD  2013-02-26 00:20:50  45000   \n",
       "2           Music          Music       USD  2012-04-16 04:24:11   5000   \n",
       "3    Film & Video   Film & Video       USD  2015-08-29 01:00:00  19500   \n",
       "4     Restaurants           Food       USD  2016-04-01 13:38:27  50000   \n",
       "\n",
       "             launched  pledged       state  backers  country  usd pledged   \\\n",
       "0  2015-08-11 12:12:28        0      failed        0       GB            0   \n",
       "1  2013-01-12 00:20:50      220      failed        3       US          220   \n",
       "2  2012-03-17 03:24:11        1      failed        1       US            1   \n",
       "3  2015-07-04 08:35:03     1283    canceled       14       US         1283   \n",
       "4  2016-02-26 13:38:27    52375  successful      224       US        52375   \n",
       "\n",
       "  Unnamed: 13 Unnamed: 14 Unnamed: 15  Unnamed: 16  \n",
       "0         NaN         NaN         NaN          NaN  \n",
       "1         NaN         NaN         NaN          NaN  \n",
       "2         NaN         NaN         NaN          NaN  \n",
       "3         NaN         NaN         NaN          NaN  \n",
       "4         NaN         NaN         NaN          NaN  "
      ]
     },
     "execution_count": 2,
     "metadata": {},
     "output_type": "execute_result"
    }
   ],
   "source": [
    "kick_start_2016 = pd.read_csv('inputs/ks-projects-201612.csv', encoding = 'ISO-8859-1')\n",
    "kick_start_2016.head()"
   ]
  },
  {
   "cell_type": "code",
   "execution_count": 3,
   "metadata": {
    "_uuid": "58e983ea03fb4490358f9ff69d3de463315cb8ae"
   },
   "outputs": [
    {
     "data": {
      "text/html": [
       "<div>\n",
       "<style scoped>\n",
       "    .dataframe tbody tr th:only-of-type {\n",
       "        vertical-align: middle;\n",
       "    }\n",
       "\n",
       "    .dataframe tbody tr th {\n",
       "        vertical-align: top;\n",
       "    }\n",
       "\n",
       "    .dataframe thead th {\n",
       "        text-align: right;\n",
       "    }\n",
       "</style>\n",
       "<table border=\"1\" class=\"dataframe\">\n",
       "  <thead>\n",
       "    <tr style=\"text-align: right;\">\n",
       "      <th></th>\n",
       "      <th>ID</th>\n",
       "      <th>name</th>\n",
       "      <th>category</th>\n",
       "      <th>main_category</th>\n",
       "      <th>currency</th>\n",
       "      <th>deadline</th>\n",
       "      <th>goal</th>\n",
       "      <th>launched</th>\n",
       "      <th>pledged</th>\n",
       "      <th>state</th>\n",
       "      <th>backers</th>\n",
       "      <th>country</th>\n",
       "      <th>usd pledged</th>\n",
       "      <th>usd_pledged_real</th>\n",
       "      <th>usd_goal_real</th>\n",
       "    </tr>\n",
       "  </thead>\n",
       "  <tbody>\n",
       "    <tr>\n",
       "      <th>0</th>\n",
       "      <td>1000002330</td>\n",
       "      <td>The Songs of Adelaide &amp; Abullah</td>\n",
       "      <td>Poetry</td>\n",
       "      <td>Publishing</td>\n",
       "      <td>GBP</td>\n",
       "      <td>2015-10-09</td>\n",
       "      <td>1000.0</td>\n",
       "      <td>2015-08-11 12:12:28</td>\n",
       "      <td>0.0</td>\n",
       "      <td>failed</td>\n",
       "      <td>0</td>\n",
       "      <td>GB</td>\n",
       "      <td>0.0</td>\n",
       "      <td>0.0</td>\n",
       "      <td>1533.95</td>\n",
       "    </tr>\n",
       "    <tr>\n",
       "      <th>1</th>\n",
       "      <td>1000003930</td>\n",
       "      <td>Greeting From Earth: ZGAC Arts Capsule For ET</td>\n",
       "      <td>Narrative Film</td>\n",
       "      <td>Film &amp; Video</td>\n",
       "      <td>USD</td>\n",
       "      <td>2017-11-01</td>\n",
       "      <td>30000.0</td>\n",
       "      <td>2017-09-02 04:43:57</td>\n",
       "      <td>2421.0</td>\n",
       "      <td>failed</td>\n",
       "      <td>15</td>\n",
       "      <td>US</td>\n",
       "      <td>100.0</td>\n",
       "      <td>2421.0</td>\n",
       "      <td>30000.00</td>\n",
       "    </tr>\n",
       "    <tr>\n",
       "      <th>2</th>\n",
       "      <td>1000004038</td>\n",
       "      <td>Where is Hank?</td>\n",
       "      <td>Narrative Film</td>\n",
       "      <td>Film &amp; Video</td>\n",
       "      <td>USD</td>\n",
       "      <td>2013-02-26</td>\n",
       "      <td>45000.0</td>\n",
       "      <td>2013-01-12 00:20:50</td>\n",
       "      <td>220.0</td>\n",
       "      <td>failed</td>\n",
       "      <td>3</td>\n",
       "      <td>US</td>\n",
       "      <td>220.0</td>\n",
       "      <td>220.0</td>\n",
       "      <td>45000.00</td>\n",
       "    </tr>\n",
       "    <tr>\n",
       "      <th>3</th>\n",
       "      <td>1000007540</td>\n",
       "      <td>ToshiCapital Rekordz Needs Help to Complete Album</td>\n",
       "      <td>Music</td>\n",
       "      <td>Music</td>\n",
       "      <td>USD</td>\n",
       "      <td>2012-04-16</td>\n",
       "      <td>5000.0</td>\n",
       "      <td>2012-03-17 03:24:11</td>\n",
       "      <td>1.0</td>\n",
       "      <td>failed</td>\n",
       "      <td>1</td>\n",
       "      <td>US</td>\n",
       "      <td>1.0</td>\n",
       "      <td>1.0</td>\n",
       "      <td>5000.00</td>\n",
       "    </tr>\n",
       "    <tr>\n",
       "      <th>4</th>\n",
       "      <td>1000011046</td>\n",
       "      <td>Community Film Project: The Art of Neighborhoo...</td>\n",
       "      <td>Film &amp; Video</td>\n",
       "      <td>Film &amp; Video</td>\n",
       "      <td>USD</td>\n",
       "      <td>2015-08-29</td>\n",
       "      <td>19500.0</td>\n",
       "      <td>2015-07-04 08:35:03</td>\n",
       "      <td>1283.0</td>\n",
       "      <td>canceled</td>\n",
       "      <td>14</td>\n",
       "      <td>US</td>\n",
       "      <td>1283.0</td>\n",
       "      <td>1283.0</td>\n",
       "      <td>19500.00</td>\n",
       "    </tr>\n",
       "  </tbody>\n",
       "</table>\n",
       "</div>"
      ],
      "text/plain": [
       "           ID                                               name  \\\n",
       "0  1000002330                    The Songs of Adelaide & Abullah   \n",
       "1  1000003930      Greeting From Earth: ZGAC Arts Capsule For ET   \n",
       "2  1000004038                                     Where is Hank?   \n",
       "3  1000007540  ToshiCapital Rekordz Needs Help to Complete Album   \n",
       "4  1000011046  Community Film Project: The Art of Neighborhoo...   \n",
       "\n",
       "         category main_category currency    deadline     goal  \\\n",
       "0          Poetry    Publishing      GBP  2015-10-09   1000.0   \n",
       "1  Narrative Film  Film & Video      USD  2017-11-01  30000.0   \n",
       "2  Narrative Film  Film & Video      USD  2013-02-26  45000.0   \n",
       "3           Music         Music      USD  2012-04-16   5000.0   \n",
       "4    Film & Video  Film & Video      USD  2015-08-29  19500.0   \n",
       "\n",
       "              launched  pledged     state  backers country  usd pledged  \\\n",
       "0  2015-08-11 12:12:28      0.0    failed        0      GB          0.0   \n",
       "1  2017-09-02 04:43:57   2421.0    failed       15      US        100.0   \n",
       "2  2013-01-12 00:20:50    220.0    failed        3      US        220.0   \n",
       "3  2012-03-17 03:24:11      1.0    failed        1      US          1.0   \n",
       "4  2015-07-04 08:35:03   1283.0  canceled       14      US       1283.0   \n",
       "\n",
       "   usd_pledged_real  usd_goal_real  \n",
       "0               0.0        1533.95  \n",
       "1            2421.0       30000.00  \n",
       "2             220.0       45000.00  \n",
       "3               1.0        5000.00  \n",
       "4            1283.0       19500.00  "
      ]
     },
     "execution_count": 3,
     "metadata": {},
     "output_type": "execute_result"
    }
   ],
   "source": [
    "kick_start_2018 = pd.read_csv('inputs/ks-projects-201801.csv')\n",
    "kick_start_2018.head()"
   ]
  },
  {
   "cell_type": "code",
   "execution_count": 4,
   "metadata": {
    "_uuid": "03bab8b40d6aa776a835a568efc0ae0caa30d042"
   },
   "outputs": [
    {
     "name": "stdout",
     "output_type": "stream",
     "text": [
      "54911\n"
     ]
    }
   ],
   "source": [
    "print(len(kick_start_2018) - len(kick_start_2016))"
   ]
  },
  {
   "cell_type": "markdown",
   "metadata": {
    "_uuid": "79d6c977a91b4291174264e85c8ee9edb7c84779"
   },
   "source": [
    "<h3> So, there are 54911 more records in 2018 data than 2016 data </h3> \n",
    "\n",
    "<h3>These records may be ideal for testing. </h3> <br> \n",
    "I will now extract only those records from 2018 data that also exist in 2016 using the ID field.<br>\n",
    "But first, the 2016 data needs renaming the columns labels (removing trailing spaces etc.) to bring it to the same format as 2018 data."
   ]
  },
  {
   "cell_type": "code",
   "execution_count": 5,
   "metadata": {
    "_uuid": "e4b29c5a1f079f38d60d4aedc9bf0d229ae044ca"
   },
   "outputs": [
    {
     "data": {
      "text/plain": [
       "Index(['ID ', 'name ', 'category ', 'main_category ', 'currency ', 'deadline ',\n",
       "       'goal ', 'launched ', 'pledged ', 'state ', 'backers ', 'country ',\n",
       "       'usd pledged ', 'Unnamed: 13', 'Unnamed: 14', 'Unnamed: 15',\n",
       "       'Unnamed: 16'],\n",
       "      dtype='object')"
      ]
     },
     "execution_count": 5,
     "metadata": {},
     "output_type": "execute_result"
    }
   ],
   "source": [
    "kick_start_2016.columns"
   ]
  },
  {
   "cell_type": "code",
   "execution_count": 6,
   "metadata": {
    "_uuid": "cef231f95e8515894bee03b90da807a6347236c6"
   },
   "outputs": [
    {
     "data": {
      "text/plain": [
       "Index(['ID', 'name', 'category', 'main_category', 'currency', 'deadline',\n",
       "       'goal', 'launched', 'pledged', 'state', 'backers', 'country',\n",
       "       'usd pledged', 'usd_pledged_real', 'usd_goal_real'],\n",
       "      dtype='object')"
      ]
     },
     "execution_count": 6,
     "metadata": {},
     "output_type": "execute_result"
    }
   ],
   "source": [
    "kick_start_2018.columns"
   ]
  },
  {
   "cell_type": "code",
   "execution_count": 7,
   "metadata": {
    "_uuid": "1512508cf7595b849703dac8abf1cf503fa22062"
   },
   "outputs": [],
   "source": [
    "# renaming the 2016 data columns\n",
    "kick_start_2016.columns = ['ID', 'name', 'category', 'main_category', 'currency', 'deadline',\n",
    "       'goal', 'launched', 'pledged', 'state', 'backers', 'country',\n",
    "       'usd_pledged', 'Unnamed: 13', 'Unnamed: 14', 'Unnamed: 15',\n",
    "       'Unnamed: 16']"
   ]
  },
  {
   "cell_type": "markdown",
   "metadata": {
    "_uuid": "50a89c3212e788c8bf296e5ab4871dc589ac0d6d"
   },
   "source": [
    "<h3> Extracting what is common to both datasets, in 2018 data. <br>\n",
    "This will be used to train the decision tree and the neural network. <br>\n",
    "I have mentioned how to combine both these models for both training and testing in the overall strategy further below.<h3>"
   ]
  },
  {
   "cell_type": "code",
   "execution_count": 8,
   "metadata": {
    "_uuid": "2c7b97ce1ea9bccd02b20b161824d55546093ef3"
   },
   "outputs": [
    {
     "data": {
      "text/plain": [
       "323750"
      ]
     },
     "execution_count": 8,
     "metadata": {},
     "output_type": "execute_result"
    }
   ],
   "source": [
    "kick_start_common = kick_start_2018.loc[kick_start_2018.ID.isin(kick_start_2016.ID)].reset_index(drop=True)\n",
    "len(kick_start_common)"
   ]
  },
  {
   "cell_type": "code",
   "execution_count": 9,
   "metadata": {
    "_uuid": "69caaae43c12112efe11ba13eb2e1255c4efd172"
   },
   "outputs": [
    {
     "data": {
      "text/html": [
       "<div>\n",
       "<style scoped>\n",
       "    .dataframe tbody tr th:only-of-type {\n",
       "        vertical-align: middle;\n",
       "    }\n",
       "\n",
       "    .dataframe tbody tr th {\n",
       "        vertical-align: top;\n",
       "    }\n",
       "\n",
       "    .dataframe thead th {\n",
       "        text-align: right;\n",
       "    }\n",
       "</style>\n",
       "<table border=\"1\" class=\"dataframe\">\n",
       "  <thead>\n",
       "    <tr style=\"text-align: right;\">\n",
       "      <th></th>\n",
       "      <th>ID</th>\n",
       "      <th>name</th>\n",
       "      <th>category</th>\n",
       "      <th>main_category</th>\n",
       "      <th>currency</th>\n",
       "      <th>deadline</th>\n",
       "      <th>goal</th>\n",
       "      <th>launched</th>\n",
       "      <th>pledged</th>\n",
       "      <th>state</th>\n",
       "      <th>backers</th>\n",
       "      <th>country</th>\n",
       "      <th>usd pledged</th>\n",
       "      <th>usd_pledged_real</th>\n",
       "      <th>usd_goal_real</th>\n",
       "    </tr>\n",
       "  </thead>\n",
       "  <tbody>\n",
       "    <tr>\n",
       "      <th>0</th>\n",
       "      <td>1000002330</td>\n",
       "      <td>The Songs of Adelaide &amp; Abullah</td>\n",
       "      <td>Poetry</td>\n",
       "      <td>Publishing</td>\n",
       "      <td>GBP</td>\n",
       "      <td>2015-10-09</td>\n",
       "      <td>1000.0</td>\n",
       "      <td>2015-08-11 12:12:28</td>\n",
       "      <td>0.0</td>\n",
       "      <td>failed</td>\n",
       "      <td>0</td>\n",
       "      <td>GB</td>\n",
       "      <td>0.0</td>\n",
       "      <td>0.0</td>\n",
       "      <td>1533.95</td>\n",
       "    </tr>\n",
       "    <tr>\n",
       "      <th>1</th>\n",
       "      <td>1000004038</td>\n",
       "      <td>Where is Hank?</td>\n",
       "      <td>Narrative Film</td>\n",
       "      <td>Film &amp; Video</td>\n",
       "      <td>USD</td>\n",
       "      <td>2013-02-26</td>\n",
       "      <td>45000.0</td>\n",
       "      <td>2013-01-12 00:20:50</td>\n",
       "      <td>220.0</td>\n",
       "      <td>failed</td>\n",
       "      <td>3</td>\n",
       "      <td>US</td>\n",
       "      <td>220.0</td>\n",
       "      <td>220.0</td>\n",
       "      <td>45000.00</td>\n",
       "    </tr>\n",
       "    <tr>\n",
       "      <th>2</th>\n",
       "      <td>1000007540</td>\n",
       "      <td>ToshiCapital Rekordz Needs Help to Complete Album</td>\n",
       "      <td>Music</td>\n",
       "      <td>Music</td>\n",
       "      <td>USD</td>\n",
       "      <td>2012-04-16</td>\n",
       "      <td>5000.0</td>\n",
       "      <td>2012-03-17 03:24:11</td>\n",
       "      <td>1.0</td>\n",
       "      <td>failed</td>\n",
       "      <td>1</td>\n",
       "      <td>US</td>\n",
       "      <td>1.0</td>\n",
       "      <td>1.0</td>\n",
       "      <td>5000.00</td>\n",
       "    </tr>\n",
       "    <tr>\n",
       "      <th>3</th>\n",
       "      <td>1000011046</td>\n",
       "      <td>Community Film Project: The Art of Neighborhoo...</td>\n",
       "      <td>Film &amp; Video</td>\n",
       "      <td>Film &amp; Video</td>\n",
       "      <td>USD</td>\n",
       "      <td>2015-08-29</td>\n",
       "      <td>19500.0</td>\n",
       "      <td>2015-07-04 08:35:03</td>\n",
       "      <td>1283.0</td>\n",
       "      <td>canceled</td>\n",
       "      <td>14</td>\n",
       "      <td>US</td>\n",
       "      <td>1283.0</td>\n",
       "      <td>1283.0</td>\n",
       "      <td>19500.00</td>\n",
       "    </tr>\n",
       "    <tr>\n",
       "      <th>4</th>\n",
       "      <td>1000014025</td>\n",
       "      <td>Monarch Espresso Bar</td>\n",
       "      <td>Restaurants</td>\n",
       "      <td>Food</td>\n",
       "      <td>USD</td>\n",
       "      <td>2016-04-01</td>\n",
       "      <td>50000.0</td>\n",
       "      <td>2016-02-26 13:38:27</td>\n",
       "      <td>52375.0</td>\n",
       "      <td>successful</td>\n",
       "      <td>224</td>\n",
       "      <td>US</td>\n",
       "      <td>52375.0</td>\n",
       "      <td>52375.0</td>\n",
       "      <td>50000.00</td>\n",
       "    </tr>\n",
       "  </tbody>\n",
       "</table>\n",
       "</div>"
      ],
      "text/plain": [
       "           ID                                               name  \\\n",
       "0  1000002330                    The Songs of Adelaide & Abullah   \n",
       "1  1000004038                                     Where is Hank?   \n",
       "2  1000007540  ToshiCapital Rekordz Needs Help to Complete Album   \n",
       "3  1000011046  Community Film Project: The Art of Neighborhoo...   \n",
       "4  1000014025                               Monarch Espresso Bar   \n",
       "\n",
       "         category main_category currency    deadline     goal  \\\n",
       "0          Poetry    Publishing      GBP  2015-10-09   1000.0   \n",
       "1  Narrative Film  Film & Video      USD  2013-02-26  45000.0   \n",
       "2           Music         Music      USD  2012-04-16   5000.0   \n",
       "3    Film & Video  Film & Video      USD  2015-08-29  19500.0   \n",
       "4     Restaurants          Food      USD  2016-04-01  50000.0   \n",
       "\n",
       "              launched  pledged       state  backers country  usd pledged  \\\n",
       "0  2015-08-11 12:12:28      0.0      failed        0      GB          0.0   \n",
       "1  2013-01-12 00:20:50    220.0      failed        3      US        220.0   \n",
       "2  2012-03-17 03:24:11      1.0      failed        1      US          1.0   \n",
       "3  2015-07-04 08:35:03   1283.0    canceled       14      US       1283.0   \n",
       "4  2016-02-26 13:38:27  52375.0  successful      224      US      52375.0   \n",
       "\n",
       "   usd_pledged_real  usd_goal_real  \n",
       "0               0.0        1533.95  \n",
       "1             220.0       45000.00  \n",
       "2               1.0        5000.00  \n",
       "3            1283.0       19500.00  \n",
       "4           52375.0       50000.00  "
      ]
     },
     "execution_count": 9,
     "metadata": {},
     "output_type": "execute_result"
    }
   ],
   "source": [
    "kick_start_common.head()"
   ]
  },
  {
   "cell_type": "markdown",
   "metadata": {
    "_uuid": "b7efaddcf5ae5f34d308cc2e0777022550951aee"
   },
   "source": [
    "<h3> Extracting records unique to 2018 data </h3>\n",
    "<h3> I will use these as my test dataset later towards the end to get the final accuracy of the combined model. "
   ]
  },
  {
   "cell_type": "code",
   "execution_count": 10,
   "metadata": {
    "_uuid": "91b38a62a44c275f7128f97a07a888afee7c3c1e"
   },
   "outputs": [
    {
     "data": {
      "text/plain": [
       "54911"
      ]
     },
     "execution_count": 10,
     "metadata": {},
     "output_type": "execute_result"
    }
   ],
   "source": [
    "kick_start_unique = kick_start_2018.loc[-kick_start_2018.ID.isin(kick_start_2016.ID)].reset_index(drop=True)\n",
    "len(kick_start_unique)"
   ]
  },
  {
   "cell_type": "code",
   "execution_count": 11,
   "metadata": {
    "_uuid": "d27e9f2bc1b52fa2fe258e4423b2c8c7359d0727"
   },
   "outputs": [
    {
     "data": {
      "text/html": [
       "<div>\n",
       "<style scoped>\n",
       "    .dataframe tbody tr th:only-of-type {\n",
       "        vertical-align: middle;\n",
       "    }\n",
       "\n",
       "    .dataframe tbody tr th {\n",
       "        vertical-align: top;\n",
       "    }\n",
       "\n",
       "    .dataframe thead th {\n",
       "        text-align: right;\n",
       "    }\n",
       "</style>\n",
       "<table border=\"1\" class=\"dataframe\">\n",
       "  <thead>\n",
       "    <tr style=\"text-align: right;\">\n",
       "      <th></th>\n",
       "      <th>ID</th>\n",
       "      <th>name</th>\n",
       "      <th>category</th>\n",
       "      <th>main_category</th>\n",
       "      <th>currency</th>\n",
       "      <th>deadline</th>\n",
       "      <th>goal</th>\n",
       "      <th>launched</th>\n",
       "      <th>pledged</th>\n",
       "      <th>state</th>\n",
       "      <th>backers</th>\n",
       "      <th>country</th>\n",
       "      <th>usd pledged</th>\n",
       "      <th>usd_pledged_real</th>\n",
       "      <th>usd_goal_real</th>\n",
       "    </tr>\n",
       "  </thead>\n",
       "  <tbody>\n",
       "    <tr>\n",
       "      <th>0</th>\n",
       "      <td>1000003930</td>\n",
       "      <td>Greeting From Earth: ZGAC Arts Capsule For ET</td>\n",
       "      <td>Narrative Film</td>\n",
       "      <td>Film &amp; Video</td>\n",
       "      <td>USD</td>\n",
       "      <td>2017-11-01</td>\n",
       "      <td>30000.0</td>\n",
       "      <td>2017-09-02 04:43:57</td>\n",
       "      <td>2421.00</td>\n",
       "      <td>failed</td>\n",
       "      <td>15</td>\n",
       "      <td>US</td>\n",
       "      <td>100.00</td>\n",
       "      <td>2421.00</td>\n",
       "      <td>30000.00</td>\n",
       "    </tr>\n",
       "    <tr>\n",
       "      <th>1</th>\n",
       "      <td>1000057089</td>\n",
       "      <td>Tombstone: Old West tabletop game and miniatur...</td>\n",
       "      <td>Tabletop Games</td>\n",
       "      <td>Games</td>\n",
       "      <td>GBP</td>\n",
       "      <td>2017-05-03</td>\n",
       "      <td>5000.0</td>\n",
       "      <td>2017-04-05 19:44:18</td>\n",
       "      <td>94175.00</td>\n",
       "      <td>successful</td>\n",
       "      <td>761</td>\n",
       "      <td>GB</td>\n",
       "      <td>57763.78</td>\n",
       "      <td>121857.33</td>\n",
       "      <td>6469.73</td>\n",
       "    </tr>\n",
       "    <tr>\n",
       "      <th>2</th>\n",
       "      <td>1000081649</td>\n",
       "      <td>MikeyJ clothing brand fundraiser</td>\n",
       "      <td>Childrenswear</td>\n",
       "      <td>Fashion</td>\n",
       "      <td>AUD</td>\n",
       "      <td>2017-09-07</td>\n",
       "      <td>2500.0</td>\n",
       "      <td>2017-08-08 01:20:20</td>\n",
       "      <td>1.00</td>\n",
       "      <td>failed</td>\n",
       "      <td>1</td>\n",
       "      <td>AU</td>\n",
       "      <td>0.00</td>\n",
       "      <td>0.81</td>\n",
       "      <td>2026.10</td>\n",
       "    </tr>\n",
       "    <tr>\n",
       "      <th>3</th>\n",
       "      <td>100011318</td>\n",
       "      <td>My Moon - Animated Short Film</td>\n",
       "      <td>Animation</td>\n",
       "      <td>Film &amp; Video</td>\n",
       "      <td>USD</td>\n",
       "      <td>2017-05-03</td>\n",
       "      <td>50000.0</td>\n",
       "      <td>2017-04-03 17:11:33</td>\n",
       "      <td>57577.31</td>\n",
       "      <td>successful</td>\n",
       "      <td>840</td>\n",
       "      <td>US</td>\n",
       "      <td>10120.00</td>\n",
       "      <td>57577.31</td>\n",
       "      <td>50000.00</td>\n",
       "    </tr>\n",
       "    <tr>\n",
       "      <th>4</th>\n",
       "      <td>1000149007</td>\n",
       "      <td>Unschooling To University Book Project</td>\n",
       "      <td>Nonfiction</td>\n",
       "      <td>Publishing</td>\n",
       "      <td>CAD</td>\n",
       "      <td>2018-01-19</td>\n",
       "      <td>3000.0</td>\n",
       "      <td>2017-11-20 18:15:14</td>\n",
       "      <td>592.00</td>\n",
       "      <td>live</td>\n",
       "      <td>24</td>\n",
       "      <td>CA</td>\n",
       "      <td>185.65</td>\n",
       "      <td>472.88</td>\n",
       "      <td>2396.36</td>\n",
       "    </tr>\n",
       "  </tbody>\n",
       "</table>\n",
       "</div>"
      ],
      "text/plain": [
       "           ID                                               name  \\\n",
       "0  1000003930      Greeting From Earth: ZGAC Arts Capsule For ET   \n",
       "1  1000057089  Tombstone: Old West tabletop game and miniatur...   \n",
       "2  1000081649                   MikeyJ clothing brand fundraiser   \n",
       "3   100011318                      My Moon - Animated Short Film   \n",
       "4  1000149007             Unschooling To University Book Project   \n",
       "\n",
       "         category main_category currency    deadline     goal  \\\n",
       "0  Narrative Film  Film & Video      USD  2017-11-01  30000.0   \n",
       "1  Tabletop Games         Games      GBP  2017-05-03   5000.0   \n",
       "2   Childrenswear       Fashion      AUD  2017-09-07   2500.0   \n",
       "3       Animation  Film & Video      USD  2017-05-03  50000.0   \n",
       "4      Nonfiction    Publishing      CAD  2018-01-19   3000.0   \n",
       "\n",
       "              launched   pledged       state  backers country  usd pledged  \\\n",
       "0  2017-09-02 04:43:57   2421.00      failed       15      US       100.00   \n",
       "1  2017-04-05 19:44:18  94175.00  successful      761      GB     57763.78   \n",
       "2  2017-08-08 01:20:20      1.00      failed        1      AU         0.00   \n",
       "3  2017-04-03 17:11:33  57577.31  successful      840      US     10120.00   \n",
       "4  2017-11-20 18:15:14    592.00        live       24      CA       185.65   \n",
       "\n",
       "   usd_pledged_real  usd_goal_real  \n",
       "0           2421.00       30000.00  \n",
       "1         121857.33        6469.73  \n",
       "2              0.81        2026.10  \n",
       "3          57577.31       50000.00  \n",
       "4            472.88        2396.36  "
      ]
     },
     "execution_count": 11,
     "metadata": {},
     "output_type": "execute_result"
    }
   ],
   "source": [
    "kick_start_unique.head()"
   ]
  },
  {
   "cell_type": "markdown",
   "metadata": {
    "_uuid": "d10313862936def12011f36141601c19a488f978"
   },
   "source": [
    "<h2> Lets focus on the training dataset for now and visualize some of its aspects. </h2>"
   ]
  },
  {
   "cell_type": "code",
   "execution_count": 12,
   "metadata": {
    "_uuid": "aeaf61e7944efbbd05f01cdb06976d331dc5855b"
   },
   "outputs": [],
   "source": [
    "kick_start = kick_start_common"
   ]
  },
  {
   "cell_type": "code",
   "execution_count": 13,
   "metadata": {
    "_uuid": "600cc7690ea337f54f493f2fad7bfec3c2cbfed0"
   },
   "outputs": [
    {
     "data": {
      "text/plain": [
       "array(['failed', 'canceled', 'successful', 'undefined', 'suspended',\n",
       "       'live'], dtype=object)"
      ]
     },
     "execution_count": 13,
     "metadata": {},
     "output_type": "execute_result"
    }
   ],
   "source": [
    "kick_start[\"state\"].unique()"
   ]
  },
  {
   "cell_type": "markdown",
   "metadata": {
    "_uuid": "85918e7a398c94a5d844a0acb3640add09bcc043"
   },
   "source": [
    "<b> Checking the distribution of the target field </b> "
   ]
  },
  {
   "cell_type": "code",
   "execution_count": 14,
   "metadata": {
    "_uuid": "1770436e5b1e66fcca533291ea06e5d50a5cf877"
   },
   "outputs": [
    {
     "data": {
      "text/plain": [
       "<matplotlib.axes._subplots.AxesSubplot at 0x19b1c589d68>"
      ]
     },
     "execution_count": 14,
     "metadata": {},
     "output_type": "execute_result"
    },
    {
     "data": {
      "image/png": "[encoded data removed]",
      "text/plain": [
       "<Figure size 432x288 with 1 Axes>"
      ]
     },
     "metadata": {},
     "output_type": "display_data"
    }
   ],
   "source": [
    "pd.value_counts(kick_start['state']).plot.pie()"
   ]
  },
  {
   "cell_type": "markdown",
   "metadata": {
    "_uuid": "8436434fa693819120e510898381c39ed3d4ab8f"
   },
   "source": [
    "<h3> Analyses, assumptions and visualizations </h3> \n",
    "\n",
    "<b>My first assumption is that the \"state\" will correlate well with the number of days between \"launch\" and \"deadline\".</b> <br>\n",
    "So, I convert those dates and bring them to \"No. of days\" format."
   ]
  },
  {
   "cell_type": "code",
   "execution_count": 15,
   "metadata": {
    "_uuid": "f4929347e7ee5365758d7bfef39b3963f7a97fb0"
   },
   "outputs": [
    {
     "name": "stdout",
     "output_type": "stream",
     "text": [
      "0 days 00:07:17\n",
      "34 days 04:46:57.291894\n",
      "16738 days 23:00:00\n"
     ]
    }
   ],
   "source": [
    "x = pd.to_datetime(kick_start[\"deadline\"])\n",
    "y = pd.to_datetime(kick_start[\"launched\"])\n",
    "z = x - y  \n",
    "\n",
    "print (z.min())\n",
    "print (z.mean())\n",
    "print (z.max())"
   ]
  },
  {
   "cell_type": "code",
   "execution_count": 16,
   "metadata": {
    "_uuid": "4258937669ce7659b53220f24dda3bc4d1f604bd"
   },
   "outputs": [
    {
     "data": {
      "text/plain": [
       "<matplotlib.axes._subplots.AxesSubplot at 0x19b2822a550>"
      ]
     },
     "execution_count": 16,
     "metadata": {},
     "output_type": "execute_result"
    },
    {
     "data": {
      "image/png": "[encoded data removed]",
      "text/plain": [
       "<Figure size 432x288 with 1 Axes>"
      ]
     },
     "metadata": {},
     "output_type": "display_data"
    }
   ],
   "source": [
    "num_days = z.apply(lambda x: str(x.days))\n",
    "pd.value_counts(num_days).plot.pie()"
   ]
  },
  {
   "cell_type": "markdown",
   "metadata": {
    "_uuid": "686005cdf0908476fa0869461d4aba76c6b91d11"
   },
   "source": [
    "<b> Most projects seem to have a deadline of 29 days (~1 month), followed by 59 days (~2 months) etc. </b> "
   ]
  },
  {
   "cell_type": "code",
   "execution_count": null,
   "metadata": {
    "_uuid": "83642b7e78cbba1996dac95204deb8c09bb79dfd"
   },
   "outputs": [],
   "source": []
  },
  {
   "cell_type": "markdown",
   "metadata": {
    "_uuid": "c575309592cd094148bc0c3ad44519d2fcadaa90"
   },
   "source": [
    "<h3> Overall strategy for training</h3>\n",
    "\n",
    "I will select certain fields (mostly categorical) to feed to a Decision Tree model to reduce entropy in the data. This will  also include the \"No. of days to deadline\" computed above. \n",
    "\n",
    "If the decision tree returns some good results and is able to reduce entropy by looking at just the categorical data (<b>without the $amounts, backers etc. </b>), I will get the probability distribution of states as the \"partial\" predictions from this tree. \n",
    "\n",
    "Next, I will concatenate these partial predictions with the rest of the columns ($amounts, backers etc.) to create a \"feature vector\". <br>\n",
    "This feature vector would then go as inputs to a neural network for further training. <br>\n",
    "\n",
    "So, even while testing, predictions will be broken down to two parts, first to recieve partial predictions from the decision tree and then to get the final predictions from the neural network.\n",
    "\n",
    "<b> The intuition is to use the Decision Tree to handle entropy in the categorical data and reduce the non-linearity / dimensions for the neural network to achieve better learning. </b>\n",
    "\n",
    "Since I need the probability distributions from the decision tree, I am implementing a decision tree based on[ ID3 algorithm ](https://en.wikipedia.org/wiki/ID3_algorithm)for this purpose. "
   ]
  },
  {
   "cell_type": "markdown",
   "metadata": {
    "_uuid": "e6e12e9f1a935471d44a26633cccdc96c2244a23"
   },
   "source": [
    "<h3> Fields selected for decision tree : </h3> \n",
    "\n",
    "<ul> \n",
    "    <li> category </li>\n",
    "    <li> main_category </li>\n",
    "    <li> currency </li>\n",
    "    <li> country </li> \n",
    "    <li> Number of days to deadline </li> \n",
    "</ul> \n",
    "\n",
    "<b> The \"id\" and \"name\" fields will be omitted as I don't think there is much correlation between these fields and the \"state\" </b> \n",
    "    "
   ]
  },
  {
   "cell_type": "code",
   "execution_count": 17,
   "metadata": {
    "_uuid": "7fad4c0b9d3e6c24715578d90bdf4d97ff8f1514"
   },
   "outputs": [
    {
     "name": "stderr",
     "output_type": "stream",
     "text": [
      "c:\\users\\mrinal\\appdata\\local\\programs\\python\\python36\\lib\\site-packages\\ipykernel_launcher.py:2: SettingWithCopyWarning: \n",
      "A value is trying to be set on a copy of a slice from a DataFrame.\n",
      "Try using .loc[row_indexer,col_indexer] = value instead\n",
      "\n",
      "See the caveats in the documentation: http://pandas.pydata.org/pandas-docs/stable/indexing.html#indexing-view-versus-copy\n",
      "  \n"
     ]
    }
   ],
   "source": [
    "dt_kstart = kick_start[['category', 'main_category', 'currency', 'country', 'state']]\n",
    "dt_kstart['num_days'] = num_days"
   ]
  },
  {
   "cell_type": "code",
   "execution_count": 18,
   "metadata": {
    "_uuid": "76cab024b50f17448729edc205d1a1b445320a37"
   },
   "outputs": [
    {
     "data": {
      "text/plain": [
       "failed        171203\n",
       "successful    114789\n",
       "canceled       32702\n",
       "undefined       3562\n",
       "suspended       1492\n",
       "live               2\n",
       "Name: state, dtype: int64"
      ]
     },
     "execution_count": 18,
     "metadata": {},
     "output_type": "execute_result"
    }
   ],
   "source": [
    "dt_kstart.state.value_counts()"
   ]
  },
  {
   "cell_type": "code",
   "execution_count": 19,
   "metadata": {
    "_uuid": "8972facb665088172c70b41a198bb3eb480fe02a"
   },
   "outputs": [],
   "source": [
    "# this function calculates the probability distribution of the unique items for a specified column in a dataframe\n",
    "def get_probabilities(df, column):\n",
    "    freqs = df[column].value_counts()\n",
    "    summation = sum(freqs)\n",
    "    probabilities = freqs / summation\n",
    "    return (probabilities) \n",
    "\n",
    "# function to return log base 2\n",
    "def ln(x):\n",
    "    return log(x)/log(2)\n",
    "\n",
    "# to return the entropy given the probability distribution    \n",
    "def get_entropy(probabilities):\n",
    "    return sum(probabilities * probabilities.apply(ln)) * -1       # Claude Elwood Shannon"
   ]
  },
  {
   "cell_type": "code",
   "execution_count": 20,
   "metadata": {
    "_uuid": "1bbcaab1f7ca9cda0997762985003c884989e920"
   },
   "outputs": [
    {
     "data": {
      "text/plain": [
       "1.4579962179445682"
      ]
     },
     "execution_count": 20,
     "metadata": {},
     "output_type": "execute_result"
    }
   ],
   "source": [
    "# Initial entropy of the 'state' column in the training data\n",
    "get_entropy(get_probabilities(dt_kstart, 'state'))"
   ]
  },
  {
   "cell_type": "code",
   "execution_count": 21,
   "metadata": {
    "_uuid": "6cd5c980e24a73a818aaac64bbb25ba84f668e5b"
   },
   "outputs": [
    {
     "data": {
      "text/html": [
       "<div>\n",
       "<style scoped>\n",
       "    .dataframe tbody tr th:only-of-type {\n",
       "        vertical-align: middle;\n",
       "    }\n",
       "\n",
       "    .dataframe tbody tr th {\n",
       "        vertical-align: top;\n",
       "    }\n",
       "\n",
       "    .dataframe thead th {\n",
       "        text-align: right;\n",
       "    }\n",
       "</style>\n",
       "<table border=\"1\" class=\"dataframe\">\n",
       "  <thead>\n",
       "    <tr style=\"text-align: right;\">\n",
       "      <th></th>\n",
       "      <th>category</th>\n",
       "      <th>main_category</th>\n",
       "      <th>currency</th>\n",
       "      <th>country</th>\n",
       "      <th>state</th>\n",
       "      <th>num_days</th>\n",
       "    </tr>\n",
       "  </thead>\n",
       "  <tbody>\n",
       "    <tr>\n",
       "      <th>0</th>\n",
       "      <td>Poetry</td>\n",
       "      <td>Publishing</td>\n",
       "      <td>GBP</td>\n",
       "      <td>GB</td>\n",
       "      <td>failed</td>\n",
       "      <td>58</td>\n",
       "    </tr>\n",
       "    <tr>\n",
       "      <th>1</th>\n",
       "      <td>Narrative Film</td>\n",
       "      <td>Film &amp; Video</td>\n",
       "      <td>USD</td>\n",
       "      <td>US</td>\n",
       "      <td>failed</td>\n",
       "      <td>44</td>\n",
       "    </tr>\n",
       "    <tr>\n",
       "      <th>2</th>\n",
       "      <td>Music</td>\n",
       "      <td>Music</td>\n",
       "      <td>USD</td>\n",
       "      <td>US</td>\n",
       "      <td>failed</td>\n",
       "      <td>29</td>\n",
       "    </tr>\n",
       "    <tr>\n",
       "      <th>3</th>\n",
       "      <td>Film &amp; Video</td>\n",
       "      <td>Film &amp; Video</td>\n",
       "      <td>USD</td>\n",
       "      <td>US</td>\n",
       "      <td>canceled</td>\n",
       "      <td>55</td>\n",
       "    </tr>\n",
       "    <tr>\n",
       "      <th>4</th>\n",
       "      <td>Restaurants</td>\n",
       "      <td>Food</td>\n",
       "      <td>USD</td>\n",
       "      <td>US</td>\n",
       "      <td>successful</td>\n",
       "      <td>34</td>\n",
       "    </tr>\n",
       "  </tbody>\n",
       "</table>\n",
       "</div>"
      ],
      "text/plain": [
       "         category main_category currency country       state num_days\n",
       "0          Poetry    Publishing      GBP      GB      failed       58\n",
       "1  Narrative Film  Film & Video      USD      US      failed       44\n",
       "2           Music         Music      USD      US      failed       29\n",
       "3    Film & Video  Film & Video      USD      US    canceled       55\n",
       "4     Restaurants          Food      USD      US  successful       34"
      ]
     },
     "execution_count": 21,
     "metadata": {},
     "output_type": "execute_result"
    }
   ],
   "source": [
    "dt_kstart.head()"
   ]
  },
  {
   "cell_type": "code",
   "execution_count": 22,
   "metadata": {
    "_uuid": "59ae46a0bf534c030b1534db1a2586073aaf3c14"
   },
   "outputs": [],
   "source": [
    "# splitting a data-frame, on an index/column and value \n",
    "# returns the new dataframe after the split\n",
    "def split_data(df, column, value):\n",
    "    return df[df[column] == value]\n",
    "\n",
    "# to get the best feature based on information gain \n",
    "def get_best_feature(df, target, to_print=False):\n",
    "    initial_entropy = get_entropy(get_probabilities(df, target))\n",
    "    best_gain = 0.0\n",
    "    best_feature = None\n",
    "    feature_list = list(df.columns)\n",
    "    feature_list.remove(target)\n",
    "    for feature in feature_list:\n",
    "        uniques = df[feature].unique()\n",
    "        new_entropy = 0 \n",
    "        for value in uniques:\n",
    "            subset =  split_data (df, feature, value) \n",
    "            probability = len(subset) / len(df)\n",
    "            new_entropy += probability * get_entropy(get_probabilities(subset, target))\n",
    "        info_gain = initial_entropy - new_entropy\n",
    "        if to_print:\n",
    "            print (info_gain, feature)\n",
    "        if info_gain > best_gain:\n",
    "            best_gain = info_gain\n",
    "            best_feature = feature\n",
    "            \n",
    "    return best_feature"
   ]
  },
  {
   "cell_type": "code",
   "execution_count": 23,
   "metadata": {
    "_uuid": "418efea6b32a0085724c20aa99cbbeeb1537f392"
   },
   "outputs": [
    {
     "name": "stdout",
     "output_type": "stream",
     "text": [
      "0.11642136016126248 category\n",
      "0.0567531938487531 main_category\n",
      "0.0072016819468441184 currency\n",
      "0.09063503898205139 country\n",
      "0.02998172295675361 num_days\n"
     ]
    },
    {
     "data": {
      "text/plain": [
       "'category'"
      ]
     },
     "execution_count": 23,
     "metadata": {},
     "output_type": "execute_result"
    }
   ],
   "source": [
    "get_best_feature(dt_kstart, 'state', True)"
   ]
  },
  {
   "cell_type": "markdown",
   "metadata": {
    "_uuid": "1078f79c403a68430f4b1080d2aa3cae9c9334ea"
   },
   "source": [
    "<h2>  Looks like, my assumption that num_days would highly correlate with state, is wrong! </h2> \n",
    "\n",
    "Nonetheless, there is some correlation and some information gain. <br>\n",
    "We now proceed to build the Decision Tree <br>\n",
    "Though the output of this decision tree is a probability distribution, I still label it as 'state' so that it is easier to retreive predictions from this tree later. "
   ]
  },
  {
   "cell_type": "code",
   "execution_count": 24,
   "metadata": {
    "_uuid": "e6ba6f8d33bb5ec199e5b437049f1b1bb0ae9c08"
   },
   "outputs": [],
   "source": [
    "# returns true if there is only one label in the target field \n",
    "def is_pure(df, target):\n",
    "    return len(df[target].unique()) == 1\n",
    "        \n",
    "def create_tree(df, target):\n",
    "    # condition for pure data (when there is only one possible 'state')\n",
    "    if is_pure(df, target):\n",
    "        return {'state' : dict(get_probabilities(df, target))}\n",
    "    \n",
    "    # condition for leaf nodes\n",
    "    if len(df.columns) <= 2:\n",
    "        features = list(df.columns)\n",
    "        features.remove(target)\n",
    "        feature = features[0]\n",
    "        leaf_node = {feature:{}}\n",
    "        uniques = df[feature].unique()\n",
    "        for value in uniques:\n",
    "            subset = split_data(df, feature, value)\n",
    "            leaf_node[feature][value] = {'state' : dict(get_probabilities(subset, target))}\n",
    "        return leaf_node\n",
    "    \n",
    "    # recursive call to create the nested tree/dictionary\n",
    "    best_feature = get_best_feature(df, target)\n",
    "    if best_feature:\n",
    "        my_tree = {best_feature:{}}\n",
    "        uniques = df[best_feature].unique()\n",
    "        for value in uniques:\n",
    "            subset = split_data(df, best_feature, value)\n",
    "            subset = subset.drop(best_feature, axis=1)\n",
    "            my_tree[best_feature][value] = create_tree(subset, target)\n",
    "    else: \n",
    "        my_tree = {'state' : dict(get_probabilities(df, target))}\n",
    "        \n",
    "    return my_tree\n",
    "            "
   ]
  },
  {
   "cell_type": "code",
   "execution_count": 25,
   "metadata": {
    "_uuid": "5bde2866f973dae046149d723023ca10f8401775"
   },
   "outputs": [
    {
     "name": "stdout",
     "output_type": "stream",
     "text": [
      "Creating the Decision Tree took close to 3.3923719378828547 minutes\n"
     ]
    }
   ],
   "source": [
    "# start time\n",
    "start = time.perf_counter()\n",
    "\n",
    "# creating the tree\n",
    "d_tree = create_tree(dt_kstart, 'state')\n",
    "\n",
    "# saving the dictionary\n",
    "filename = 'decision_tree.txt'\n",
    "with open(filename, 'w') as f:\n",
    "    json.dump(d_tree, f)\n",
    "    \n",
    "# end time\n",
    "stop = time.perf_counter()\n",
    "\n",
    "print('Creating the Decision Tree took close to ' + str((stop-start)/60.0) + ' minutes')"
   ]
  },
  {
   "cell_type": "code",
   "execution_count": 26,
   "metadata": {
    "_uuid": "1738fcbed8203fdd0cfd62a2cd853ff6f29c57d4"
   },
   "outputs": [],
   "source": [
    "# loading the tree\n",
    "def load_tree(filename):\n",
    "    with open(filename, 'r') as f:\n",
    "        return json.load(f)\n",
    "\n",
    "d_tree = load_tree('decision_tree.txt')"
   ]
  },
  {
   "cell_type": "code",
   "execution_count": 27,
   "metadata": {
    "_uuid": "d0d8643f3cbadf590879deb976d438c409e4c55a"
   },
   "outputs": [],
   "source": [
    "# to predict a single instance of a feature using the decision tree\n",
    "# inputs: the tree; an instance of features of type pandas.Series.series\n",
    "# returns: the probability distribution of the states as a dictionary\n",
    "def partial_predict(tree, features):\n",
    "    probabs = {}\n",
    "    first_dict = next(iter(tree))\n",
    "    second_dict = tree[first_dict]\n",
    "    feat_value = features[first_dict]\n",
    "    if first_dict != 'state':\n",
    "        for key in second_dict.keys():\n",
    "            if feat_value == key:\n",
    "                probabs = partial_predict(second_dict[key], features)\n",
    "    else: \n",
    "        probabs = second_dict\n",
    "    return probabs"
   ]
  },
  {
   "cell_type": "markdown",
   "metadata": {
    "_uuid": "2cb12a9b6370f0aec06c1070259bad4ed4b67a07"
   },
   "source": [
    "<h3> Unit testing the tree on a single instance/row </h3>"
   ]
  },
  {
   "cell_type": "code",
   "execution_count": 28,
   "metadata": {
    "_uuid": "cfce9365cf6f6d21c7592803c084720ba1f32e3b"
   },
   "outputs": [
    {
     "data": {
      "text/plain": [
       "{'category': 'Restaurants',\n",
       " 'country': 'US',\n",
       " 'currency': 'USD',\n",
       " 'main_category': 'Food',\n",
       " 'num_days': '59',\n",
       " 'state': 'failed'}"
      ]
     },
     "execution_count": 28,
     "metadata": {},
     "output_type": "execute_result"
    }
   ],
   "source": [
    "labels = dict(dt_kstart.loc[89])\n",
    "labels"
   ]
  },
  {
   "cell_type": "code",
   "execution_count": 29,
   "metadata": {
    "_uuid": "9e5158a95704a302bab7726b4429da4da7a5d581"
   },
   "outputs": [
    {
     "data": {
      "text/plain": [
       "{'canceled': 0.1394422310756972,\n",
       " 'failed': 0.8127490039840638,\n",
       " 'successful': 0.043824701195219126,\n",
       " 'suspended': 0.00398406374501992}"
      ]
     },
     "execution_count": 29,
     "metadata": {},
     "output_type": "execute_result"
    }
   ],
   "source": [
    "partial_predict(d_tree, labels)"
   ]
  },
  {
   "cell_type": "code",
   "execution_count": 30,
   "metadata": {
    "_uuid": "805b30c8da0d30901dadf6bc77a40d8e5989c6cd"
   },
   "outputs": [
    {
     "data": {
      "text/plain": [
       "{'state': {'canceled': 0.1394422310756972,\n",
       "  'failed': 0.8127490039840638,\n",
       "  'successful': 0.043824701195219126,\n",
       "  'suspended': 0.00398406374501992}}"
      ]
     },
     "execution_count": 30,
     "metadata": {},
     "output_type": "execute_result"
    }
   ],
   "source": [
    "# retrieving data from the tree\n",
    "d_tree['category']['Restaurants']['num_days']['59']['country']['US']"
   ]
  },
  {
   "cell_type": "markdown",
   "metadata": {
    "_uuid": "4cb5c05950bccfbb72889f5e4bbeb3f76075aec3"
   },
   "source": [
    "<h3> Translate probability distributions from a dictionary to a numpy array </h3>"
   ]
  },
  {
   "cell_type": "code",
   "execution_count": 31,
   "metadata": {
    "_uuid": "dad70f46802a56e04d7282d12605b8274ab6bc7c"
   },
   "outputs": [],
   "source": [
    "# to translate a predicted distribution (a dictionary) to its corresponding numpy version\n",
    "def translate(distribution):\n",
    "    array = np.zeros([6])\n",
    "    # to hardcode positions in the numpy array \n",
    "    positions = {'failed':0, \n",
    "                 'successful':1, \n",
    "                 'canceled':2, \n",
    "                 'undefined':3, \n",
    "                 'live':4, \n",
    "                 'suspended':5} \n",
    "    for key in positions:\n",
    "        if key in distribution.keys():\n",
    "            array[positions[key]] = distribution[key]\n",
    "    return array"
   ]
  },
  {
   "cell_type": "code",
   "execution_count": 32,
   "metadata": {
    "_uuid": "90cf53e86bfd5ed25466e603a5645ca6bfb702f1"
   },
   "outputs": [
    {
     "name": "stdout",
     "output_type": "stream",
     "text": [
      "{'failed': 0.8127490039840638, 'canceled': 0.1394422310756972, 'successful': 0.043824701195219126, 'suspended': 0.00398406374501992}\n",
      "[0.812749   0.0438247  0.13944223 0.         0.         0.00398406]\n"
     ]
    }
   ],
   "source": [
    "x = partial_predict(d_tree, labels) #same example as above\n",
    "print(x)\n",
    "y = translate(x)\n",
    "print (y) # this is now translated to a numpy version"
   ]
  },
  {
   "cell_type": "code",
   "execution_count": 33,
   "metadata": {
    "_uuid": "d9992dfdd6a422134bdfde31797b79d3f0eb1f5b"
   },
   "outputs": [
    {
     "data": {
      "text/plain": [
       "1.0"
      ]
     },
     "execution_count": 33,
     "metadata": {},
     "output_type": "execute_result"
    }
   ],
   "source": [
    "# since this is a probability distribution, all entries must sum to 1 \n",
    "y.sum()"
   ]
  },
  {
   "cell_type": "markdown",
   "metadata": {
    "_uuid": "f9933799b692de7edd4079a52dcd075b7f1aaab6"
   },
   "source": [
    "<h3> Generating probability distributions from categorical data for the entire training dataset using the tree </h3>"
   ]
  },
  {
   "cell_type": "code",
   "execution_count": 34,
   "metadata": {
    "_uuid": "958f14efb565bdc011a8a66ad7c39c4d33b91aa5"
   },
   "outputs": [],
   "source": [
    "to_predict = dt_kstart"
   ]
  },
  {
   "cell_type": "code",
   "execution_count": 35,
   "metadata": {
    "_uuid": "bb27213c1d08d55c98e3aa290cbba64b6ca7e54b"
   },
   "outputs": [],
   "source": [
    "# to get predictions for an entire dataframe\n",
    "def get_partial_predictions(tree, inputs):\n",
    "    partial_predictions = []\n",
    "    for index,row in inputs.iterrows():\n",
    "        features = dict(row)\n",
    "        probabs = partial_predict(tree, features)\n",
    "        arr = translate(probabs)\n",
    "        partial_predictions.append(arr)\n",
    "    return np.array(partial_predictions)"
   ]
  },
  {
   "cell_type": "code",
   "execution_count": null,
   "metadata": {
    "_uuid": "8109d9b7a354378688e4363e1c3de621bfa967a3"
   },
   "outputs": [],
   "source": []
  },
  {
   "cell_type": "code",
   "execution_count": 36,
   "metadata": {
    "_uuid": "b4d7679eebf65e5d912082ff289c7d0f0afae317"
   },
   "outputs": [
    {
     "name": "stdout",
     "output_type": "stream",
     "text": [
      "(323750, 6)\n",
      "This process took 53.99899200082706 seconds\n"
     ]
    }
   ],
   "source": [
    "start = time.perf_counter()\n",
    "part_predict = get_partial_predictions(d_tree, to_predict)\n",
    "stop = time.perf_counter()\n",
    "\n",
    "print(part_predict.shape)\n",
    "print('This process took ' + str(stop-start) + ' seconds')"
   ]
  },
  {
   "cell_type": "markdown",
   "metadata": {
    "_uuid": "51f1ff922312464a7be51df36b16a4410c4d3f22"
   },
   "source": [
    " <h2> 'part_predict' now contains the partial predictions from the decision tree for the entire dataset </h2>"
   ]
  },
  {
   "cell_type": "code",
   "execution_count": null,
   "metadata": {
    "_uuid": "d69c96758c1e7be0caa534fcb8f9e16b1f4fa056"
   },
   "outputs": [],
   "source": []
  },
  {
   "cell_type": "markdown",
   "metadata": {
    "_uuid": "4b6cd7033e26f36b1873baf37ab8c5079e907fb5"
   },
   "source": [
    "<h2> Preparing training dataset for the neural network </h2> \n",
    "\n",
    "As was mentioned earlier, the neural network needs the probability distributions from the tree and the remaining numerical columns. \n",
    "\n",
    "So the inputs to the neural net. would be: \n",
    "\n",
    "<ul>\n",
    "    <li> Probability Distributions from the decision tree (length = 6) </li>\n",
    "    <li> backers </li>\n",
    "    <li> usd_pledged_real </li>\n",
    "    <li> usd_goal_real </li> \n",
    "</ul> \n",
    "\n",
    "I am omitting the other columns for \"pledged\" and \"goal\" as they may contain different 'currencies' which has already been handled by the tree.  "
   ]
  },
  {
   "cell_type": "markdown",
   "metadata": {
    "_uuid": "ff8321554b235b116281c705121b59556b7f35cd"
   },
   "source": [
    "<h2> Concatenate the partial prediction to the remaining (numeric) fields in the dataset </h2> "
   ]
  },
  {
   "cell_type": "code",
   "execution_count": 37,
   "metadata": {
    "_uuid": "8793c449a6d2e3b15aa5822a885657ce81bacff0"
   },
   "outputs": [
    {
     "name": "stdout",
     "output_type": "stream",
     "text": [
      "(323750, 6)\n",
      "(323750, 3)\n"
     ]
    }
   ],
   "source": [
    "nn_train_part1 = part_predict\n",
    "nn_train_part2 = np.array(kick_start[['backers', 'usd_pledged_real', 'usd_goal_real']])\n",
    "\n",
    "print (nn_train_part1.shape)\n",
    "print (nn_train_part2.shape)"
   ]
  },
  {
   "cell_type": "code",
   "execution_count": 38,
   "metadata": {
    "_uuid": "3ba07705ff1cb721b690a2638e4f090305df10f1"
   },
   "outputs": [
    {
     "name": "stdout",
     "output_type": "stream",
     "text": [
      "(323750, 9)\n"
     ]
    }
   ],
   "source": [
    "nn_inputs = np.concatenate((nn_train_part1, nn_train_part2), axis=1)\n",
    "print(nn_inputs.shape)"
   ]
  },
  {
   "cell_type": "code",
   "execution_count": 39,
   "metadata": {
    "_uuid": "a6cd8f5e5dd912614c7ddb85d07c9b4420a2703b"
   },
   "outputs": [],
   "source": [
    "# save the training_inputs for the neural network\n",
    "np.save('nn_inputs', nn_inputs)"
   ]
  },
  {
   "cell_type": "code",
   "execution_count": 40,
   "metadata": {
    "_uuid": "f44b6c74fbcce069eb2803114c1f3746ab6c2b5c"
   },
   "outputs": [
    {
     "data": {
      "text/plain": [
       "(323750,)"
      ]
     },
     "execution_count": 40,
     "metadata": {},
     "output_type": "execute_result"
    }
   ],
   "source": [
    "# for the targets of the neural network\n",
    "states = np.array(kick_start['state'])\n",
    "states.shape"
   ]
  },
  {
   "cell_type": "code",
   "execution_count": 41,
   "metadata": {
    "_uuid": "0c8e7bf1467b89b8caa5c581ce71b12fea497a06"
   },
   "outputs": [],
   "source": [
    "# to translate the state into integers for one-hot encoding\n",
    "def translate_states(states):\n",
    "    array = np.empty([len(states)], dtype = 'int8')\n",
    "    positions = {'failed':0, \n",
    "                 'successful':1, \n",
    "                 'canceled':2, \n",
    "                 'undefined':3, \n",
    "                 'live':4, \n",
    "                 'suspended':5} \n",
    "    for i, state in enumerate(list(states)):\n",
    "        array[i] = int(positions[state])\n",
    "    return array"
   ]
  },
  {
   "cell_type": "code",
   "execution_count": 42,
   "metadata": {
    "_uuid": "c7201a3f638a98de1ad161cf9ac8a22719bccc98"
   },
   "outputs": [
    {
     "data": {
      "text/plain": [
       "array([0, 0, 0, 2, 1, 1, 0, 2, 2, 0], dtype=int8)"
      ]
     },
     "execution_count": 42,
     "metadata": {},
     "output_type": "execute_result"
    }
   ],
   "source": [
    "translated = translate_states(states)\n",
    "translated[:10]"
   ]
  },
  {
   "cell_type": "code",
   "execution_count": 43,
   "metadata": {
    "_uuid": "760b183d647b23fdc81cc75eba1cf42687334ad0"
   },
   "outputs": [],
   "source": [
    "# One hot encoding\n",
    "nb_classes = 6\n",
    "one_hot_targets = np.eye(nb_classes)[translated]"
   ]
  },
  {
   "cell_type": "code",
   "execution_count": 44,
   "metadata": {
    "_uuid": "8ab28b53584382b9aff529741f9431b3f9dbdced"
   },
   "outputs": [
    {
     "data": {
      "text/plain": [
       "array([[1., 0., 0., 0., 0., 0.],\n",
       "       [1., 0., 0., 0., 0., 0.],\n",
       "       [1., 0., 0., 0., 0., 0.],\n",
       "       [0., 0., 1., 0., 0., 0.],\n",
       "       [0., 1., 0., 0., 0., 0.],\n",
       "       [0., 1., 0., 0., 0., 0.],\n",
       "       [1., 0., 0., 0., 0., 0.],\n",
       "       [0., 0., 1., 0., 0., 0.],\n",
       "       [0., 0., 1., 0., 0., 0.],\n",
       "       [1., 0., 0., 0., 0., 0.]])"
      ]
     },
     "execution_count": 44,
     "metadata": {},
     "output_type": "execute_result"
    }
   ],
   "source": [
    "one_hot_targets[:10]"
   ]
  },
  {
   "cell_type": "code",
   "execution_count": 45,
   "metadata": {
    "_uuid": "3e1096fde97943e6e76e1672c16774658f690356"
   },
   "outputs": [],
   "source": [
    "# saving the targets for the neural network\n",
    "np.save('one_hot_targets', one_hot_targets)"
   ]
  },
  {
   "cell_type": "markdown",
   "metadata": {
    "_uuid": "86783055f50833ea97e20371ec249b26e74d1250"
   },
   "source": [
    "<h2> We now have our inputs in \"nn_inputs\" and our targets in \"one_hot_targets\". </h2>\n",
    "\n",
    "<b> Training the Neural Network </b> "
   ]
  },
  {
   "cell_type": "code",
   "execution_count": 46,
   "metadata": {
    "_uuid": "f6207ca7d986ba298a6a49f145fce6981e479968"
   },
   "outputs": [],
   "source": [
    "inputs = np.load('nn_inputs.npy')\n",
    "targets = np.load('one_hot_targets.npy')"
   ]
  },
  {
   "cell_type": "code",
   "execution_count": 47,
   "metadata": {
    "_uuid": "6cc9132a3250fbd3c1846870214a7ccdcd926a50"
   },
   "outputs": [
    {
     "name": "stdout",
     "output_type": "stream",
     "text": [
      "Train on 291375 samples, validate on 32375 samples\n",
      "Epoch 1/6\n",
      "291375/291375 [==============================] - 27s 93us/step - loss: 0.1378 - acc: 0.9529 - val_loss: 0.1213 - val_acc: 0.9604\n",
      "Epoch 2/6\n",
      "291375/291375 [==============================] - 19s 64us/step - loss: 0.1188 - acc: 0.9609 - val_loss: 0.1182 - val_acc: 0.9610\n",
      "Epoch 3/6\n",
      "291375/291375 [==============================] - 17s 60us/step - loss: 0.1186 - acc: 0.9609 - val_loss: 0.1185 - val_acc: 0.9609\n",
      "Epoch 4/6\n",
      "291375/291375 [==============================] - 16s 55us/step - loss: 0.1185 - acc: 0.9609 - val_loss: 0.1187 - val_acc: 0.9609\n",
      "Epoch 5/6\n",
      "291375/291375 [==============================] - 19s 66us/step - loss: 0.1182 - acc: 0.9610 - val_loss: 0.1184 - val_acc: 0.9609\n",
      "Epoch 6/6\n",
      "291375/291375 [==============================] - 17s 57us/step - loss: 0.1177 - acc: 0.9611 - val_loss: 0.1184 - val_acc: 0.9610\n"
     ]
    },
    {
     "data": {
      "text/plain": [
       "<keras.callbacks.History at 0x19b15287710>"
      ]
     },
     "execution_count": 47,
     "metadata": {},
     "output_type": "execute_result"
    }
   ],
   "source": [
    "model = Sequential()\n",
    "model.add(Dense(9, input_dim=9, activation='sigmoid'))\n",
    "model.add(Dense(20, activation='sigmoid'))\n",
    "model.add(Dense(15, activation='sigmoid'))\n",
    "model.add(Dense(10, activation='sigmoid'))\n",
    "model.add(Dense(6, activation = 'softmax')) \n",
    "\n",
    "model.compile(loss='binary_crossentropy', optimizer='nadam', metrics=['accuracy'])\n",
    "\n",
    "model.fit(nn_inputs, one_hot_targets, validation_split = 0.1, epochs = 6, batch_size=120)"
   ]
  },
  {
   "cell_type": "code",
   "execution_count": 48,
   "metadata": {
    "_uuid": "b54c3f68a23f67b52cb5194cdba26822a25b4d2a"
   },
   "outputs": [],
   "source": [
    "model.save('nn_model.h5')"
   ]
  },
  {
   "cell_type": "code",
   "execution_count": 49,
   "metadata": {
    "_uuid": "1d0084038fb3270c6f96678fd091f7ca6ccd06d7"
   },
   "outputs": [],
   "source": [
    "# helper function to convert dates to num_days\n",
    "def convert_dates(features):\n",
    "    x = pd.to_datetime(features[\"deadline\"])\n",
    "    y = pd.to_datetime(features[\"launched\"])\n",
    "    z = x - y \n",
    "    num_days = str(z.days)\n",
    "    return num_days\n",
    "    \n",
    "# for final predictions using both the decision tree and the neural network \n",
    "# inputs: a pandas.Series.series object called features, and,\n",
    "#         the trained decision tree and neural network\n",
    "# outputs: the predicted 'state' for the provided features as a numpy array \n",
    "def predict(features, d_tree, model):\n",
    "    expected_out = one_hot = None\n",
    "    reverse_hot = {0:'failed', \n",
    "                   1:'successful', \n",
    "                   2:'canceled', \n",
    "                   3:'undefined', \n",
    "                   4:'live', \n",
    "                   5:'suspended'}\n",
    "    num_days = convert_dates(features)\n",
    "    features = dict(features)\n",
    "    features['num_days'] = num_days\n",
    "    part_preds = partial_predict(d_tree, features)\n",
    "    part1 = translate(part_preds)\n",
    "    part2 = np.array([features['backers'], \n",
    "                      features['usd_pledged_real'], \n",
    "                      features['usd_goal_real']])\n",
    "    to_predict = np.concatenate((part1, part2))\n",
    "    to_predict = np.array([to_predict])\n",
    "    predicted_numpy = model.predict(to_predict)\n",
    "    prediction = np.array(reverse_hot[predicted_numpy.argmax()])\n",
    "    return prediction"
   ]
  },
  {
   "cell_type": "markdown",
   "metadata": {
    "_uuid": "63b2b757af93742e7c0c36e4b96834e87250cf18"
   },
   "source": [
    "<h3> Testing on some instances </h3>"
   ]
  },
  {
   "cell_type": "code",
   "execution_count": 50,
   "metadata": {
    "_uuid": "527651a3005c533c88b3bcc1b4476c490d97b20a"
   },
   "outputs": [
    {
     "name": "stdout",
     "output_type": "stream",
     "text": [
      "failed\n",
      "failed\n",
      "successful\n",
      "successful\n"
     ]
    }
   ],
   "source": [
    "# test an i'th row in the dataset\n",
    "def get_prediction(i):\n",
    "    return predict(kick_start.loc[i], d_tree, model)\n",
    "\n",
    "print (get_prediction(randint(0,1000)))\n",
    "print (get_prediction(randint(0,5000)))\n",
    "print (get_prediction(randint(0,1000)))\n",
    "print (get_prediction(randint(0,5000)))"
   ]
  },
  {
   "cell_type": "markdown",
   "metadata": {
    "_uuid": "bad074f810d68c900334a98ec0a04e0af3b5150b"
   },
   "source": [
    "<h2> Testing with the entire training dataset </h2> \n",
    "\n",
    "Loading the models"
   ]
  },
  {
   "cell_type": "code",
   "execution_count": 51,
   "metadata": {
    "_uuid": "d06216c1311e9d8cd6d1b78a1d68c194c9a43131"
   },
   "outputs": [],
   "source": [
    "model = load_model('nn_model.h5')\n",
    "d_tree = load_tree('decision_tree.txt')"
   ]
  },
  {
   "cell_type": "markdown",
   "metadata": {
    "_uuid": "207042cd66d5bfd795841f730516e98474d10b25"
   },
   "source": [
    "<h3> Droping the 'state' labels from the test data and filling it with 'None' </h3> "
   ]
  },
  {
   "cell_type": "code",
   "execution_count": 52,
   "metadata": {
    "_uuid": "11b3779402eae623328f23b9dbb3a5e250c39444"
   },
   "outputs": [],
   "source": [
    "kick_start_test = kick_start.drop(['state'], axis=1)\n",
    "kick_start_test['state'] = None"
   ]
  },
  {
   "cell_type": "code",
   "execution_count": 53,
   "metadata": {
    "_uuid": "ebffe0e5d27b646742e4b8de2667b19e2855d1db"
   },
   "outputs": [
    {
     "data": {
      "text/html": [
       "<div>\n",
       "<style scoped>\n",
       "    .dataframe tbody tr th:only-of-type {\n",
       "        vertical-align: middle;\n",
       "    }\n",
       "\n",
       "    .dataframe tbody tr th {\n",
       "        vertical-align: top;\n",
       "    }\n",
       "\n",
       "    .dataframe thead th {\n",
       "        text-align: right;\n",
       "    }\n",
       "</style>\n",
       "<table border=\"1\" class=\"dataframe\">\n",
       "  <thead>\n",
       "    <tr style=\"text-align: right;\">\n",
       "      <th></th>\n",
       "      <th>ID</th>\n",
       "      <th>name</th>\n",
       "      <th>category</th>\n",
       "      <th>main_category</th>\n",
       "      <th>currency</th>\n",
       "      <th>deadline</th>\n",
       "      <th>goal</th>\n",
       "      <th>launched</th>\n",
       "      <th>pledged</th>\n",
       "      <th>backers</th>\n",
       "      <th>country</th>\n",
       "      <th>usd pledged</th>\n",
       "      <th>usd_pledged_real</th>\n",
       "      <th>usd_goal_real</th>\n",
       "      <th>state</th>\n",
       "    </tr>\n",
       "  </thead>\n",
       "  <tbody>\n",
       "    <tr>\n",
       "      <th>0</th>\n",
       "      <td>1000002330</td>\n",
       "      <td>The Songs of Adelaide &amp; Abullah</td>\n",
       "      <td>Poetry</td>\n",
       "      <td>Publishing</td>\n",
       "      <td>GBP</td>\n",
       "      <td>2015-10-09</td>\n",
       "      <td>1000.0</td>\n",
       "      <td>2015-08-11 12:12:28</td>\n",
       "      <td>0.0</td>\n",
       "      <td>0</td>\n",
       "      <td>GB</td>\n",
       "      <td>0.0</td>\n",
       "      <td>0.0</td>\n",
       "      <td>1533.95</td>\n",
       "      <td>None</td>\n",
       "    </tr>\n",
       "    <tr>\n",
       "      <th>1</th>\n",
       "      <td>1000004038</td>\n",
       "      <td>Where is Hank?</td>\n",
       "      <td>Narrative Film</td>\n",
       "      <td>Film &amp; Video</td>\n",
       "      <td>USD</td>\n",
       "      <td>2013-02-26</td>\n",
       "      <td>45000.0</td>\n",
       "      <td>2013-01-12 00:20:50</td>\n",
       "      <td>220.0</td>\n",
       "      <td>3</td>\n",
       "      <td>US</td>\n",
       "      <td>220.0</td>\n",
       "      <td>220.0</td>\n",
       "      <td>45000.00</td>\n",
       "      <td>None</td>\n",
       "    </tr>\n",
       "    <tr>\n",
       "      <th>2</th>\n",
       "      <td>1000007540</td>\n",
       "      <td>ToshiCapital Rekordz Needs Help to Complete Album</td>\n",
       "      <td>Music</td>\n",
       "      <td>Music</td>\n",
       "      <td>USD</td>\n",
       "      <td>2012-04-16</td>\n",
       "      <td>5000.0</td>\n",
       "      <td>2012-03-17 03:24:11</td>\n",
       "      <td>1.0</td>\n",
       "      <td>1</td>\n",
       "      <td>US</td>\n",
       "      <td>1.0</td>\n",
       "      <td>1.0</td>\n",
       "      <td>5000.00</td>\n",
       "      <td>None</td>\n",
       "    </tr>\n",
       "    <tr>\n",
       "      <th>3</th>\n",
       "      <td>1000011046</td>\n",
       "      <td>Community Film Project: The Art of Neighborhoo...</td>\n",
       "      <td>Film &amp; Video</td>\n",
       "      <td>Film &amp; Video</td>\n",
       "      <td>USD</td>\n",
       "      <td>2015-08-29</td>\n",
       "      <td>19500.0</td>\n",
       "      <td>2015-07-04 08:35:03</td>\n",
       "      <td>1283.0</td>\n",
       "      <td>14</td>\n",
       "      <td>US</td>\n",
       "      <td>1283.0</td>\n",
       "      <td>1283.0</td>\n",
       "      <td>19500.00</td>\n",
       "      <td>None</td>\n",
       "    </tr>\n",
       "    <tr>\n",
       "      <th>4</th>\n",
       "      <td>1000014025</td>\n",
       "      <td>Monarch Espresso Bar</td>\n",
       "      <td>Restaurants</td>\n",
       "      <td>Food</td>\n",
       "      <td>USD</td>\n",
       "      <td>2016-04-01</td>\n",
       "      <td>50000.0</td>\n",
       "      <td>2016-02-26 13:38:27</td>\n",
       "      <td>52375.0</td>\n",
       "      <td>224</td>\n",
       "      <td>US</td>\n",
       "      <td>52375.0</td>\n",
       "      <td>52375.0</td>\n",
       "      <td>50000.00</td>\n",
       "      <td>None</td>\n",
       "    </tr>\n",
       "  </tbody>\n",
       "</table>\n",
       "</div>"
      ],
      "text/plain": [
       "           ID                                               name  \\\n",
       "0  1000002330                    The Songs of Adelaide & Abullah   \n",
       "1  1000004038                                     Where is Hank?   \n",
       "2  1000007540  ToshiCapital Rekordz Needs Help to Complete Album   \n",
       "3  1000011046  Community Film Project: The Art of Neighborhoo...   \n",
       "4  1000014025                               Monarch Espresso Bar   \n",
       "\n",
       "         category main_category currency    deadline     goal  \\\n",
       "0          Poetry    Publishing      GBP  2015-10-09   1000.0   \n",
       "1  Narrative Film  Film & Video      USD  2013-02-26  45000.0   \n",
       "2           Music         Music      USD  2012-04-16   5000.0   \n",
       "3    Film & Video  Film & Video      USD  2015-08-29  19500.0   \n",
       "4     Restaurants          Food      USD  2016-04-01  50000.0   \n",
       "\n",
       "              launched  pledged  backers country  usd pledged  \\\n",
       "0  2015-08-11 12:12:28      0.0        0      GB          0.0   \n",
       "1  2013-01-12 00:20:50    220.0        3      US        220.0   \n",
       "2  2012-03-17 03:24:11      1.0        1      US          1.0   \n",
       "3  2015-07-04 08:35:03   1283.0       14      US       1283.0   \n",
       "4  2016-02-26 13:38:27  52375.0      224      US      52375.0   \n",
       "\n",
       "   usd_pledged_real  usd_goal_real state  \n",
       "0               0.0        1533.95  None  \n",
       "1             220.0       45000.00  None  \n",
       "2               1.0        5000.00  None  \n",
       "3            1283.0       19500.00  None  \n",
       "4           52375.0       50000.00  None  "
      ]
     },
     "execution_count": 53,
     "metadata": {},
     "output_type": "execute_result"
    }
   ],
   "source": [
    "kick_start_test.head()"
   ]
  },
  {
   "cell_type": "code",
   "execution_count": 54,
   "metadata": {
    "_uuid": "db348d83c6009cec81cf9446c86488e25e59b608"
   },
   "outputs": [
    {
     "data": {
      "text/plain": [
       "0        failed\n",
       "1        failed\n",
       "2        failed\n",
       "3      canceled\n",
       "4    successful\n",
       "5    successful\n",
       "6        failed\n",
       "7      canceled\n",
       "8      canceled\n",
       "9        failed\n",
       "Name: state, dtype: object"
      ]
     },
     "execution_count": 54,
     "metadata": {},
     "output_type": "execute_result"
    }
   ],
   "source": [
    "expected_outputs = kick_start['state']\n",
    "expected_outputs[:10]"
   ]
  },
  {
   "cell_type": "code",
   "execution_count": 55,
   "metadata": {
    "_uuid": "59d7cd878a07003a75a9caf079f7350e2a547888"
   },
   "outputs": [
    {
     "name": "stdout",
     "output_type": "stream",
     "text": [
      "Getting predictions on the training dataset took 10.777156134982999 minutes\n"
     ]
    }
   ],
   "source": [
    "start = time.perf_counter()\n",
    "\n",
    "results = {'predicted':[], 'expected': list(expected_outputs)}\n",
    "for index,row in kick_start_test.iterrows():\n",
    "    results['predicted'].append(predict(row, d_tree, model))  \n",
    "\n",
    "end = time.perf_counter()\n",
    "print ('Getting predictions on the training dataset took ' + \n",
    "       str((end - start) / 60.0) + ' minutes')"
   ]
  },
  {
   "cell_type": "code",
   "execution_count": 56,
   "metadata": {
    "_uuid": "226d22459dfe9369408ad0aefb2e5f1fcb9efc69"
   },
   "outputs": [],
   "source": [
    "results_df = pd.DataFrame(results)\n",
    "results_df.to_csv('results_training_data.csv')"
   ]
  },
  {
   "cell_type": "code",
   "execution_count": 57,
   "metadata": {
    "_uuid": "846f28e2ac50230874f01a0288ce97cff9837766"
   },
   "outputs": [],
   "source": [
    "def display_results_data(result_df):\n",
    "    matches = result_df.loc[(result_df['predicted'] == result_df['expected'])]\n",
    "    match_percentage = len(matches)/len(result_df) * 100\n",
    "    errors =  result_df.loc[(result_df['predicted'] != result_df['expected'])]\n",
    "    error_percentage = len(errors)/len(result_df) * 100\n",
    "    \n",
    "    print ('\\nTrue Positives = ' + str(len(matches)) + \n",
    "           '\\t\\t' + 'True Pos. Percentage = ' + \n",
    "           str(match_percentage))\n",
    "    print ('\\nErrors = ' + str(len(errors)) +\n",
    "           '\\t\\t\\t' + 'Error Percentage = ' + \n",
    "           str(error_percentage))\n"
   ]
  },
  {
   "cell_type": "code",
   "execution_count": 58,
   "metadata": {
    "_uuid": "bf52faff3c3efd112aae6838a67b9ef193b4f84c"
   },
   "outputs": [
    {
     "name": "stdout",
     "output_type": "stream",
     "text": [
      "\n",
      "True Positives = 285939\t\tTrue Pos. Percentage = 88.32092664092664\n",
      "\n",
      "Errors = 37811\t\t\tError Percentage = 11.67907335907336\n"
     ]
    }
   ],
   "source": [
    "display_results_data(results_df)"
   ]
  },
  {
   "cell_type": "code",
   "execution_count": null,
   "metadata": {
    "_uuid": "a4a2c4d901337dc2bba55d6f980fc11cbf866967"
   },
   "outputs": [],
   "source": []
  },
  {
   "cell_type": "markdown",
   "metadata": {
    "_uuid": "1f1aa7387f4a01380bb97e9555b06351f8c56acc"
   },
   "source": [
    "<h1> TESTING ON UNSEEN DATA </h1> \n",
    "<h3> Loading the models </h3>"
   ]
  },
  {
   "cell_type": "code",
   "execution_count": 59,
   "metadata": {
    "_uuid": "113011e71d8f55c2e5db9414f140118a91633acc"
   },
   "outputs": [],
   "source": [
    "model = load_model('nn_model.h5')\n",
    "d_tree = load_tree('decision_tree.txt')"
   ]
  },
  {
   "cell_type": "markdown",
   "metadata": {
    "_uuid": "ad77aa013c72344e38dee1b514fdd998e680f6ac"
   },
   "source": [
    "<h3> I will now use the 'kick_start_unique' dataframe. <br>\n",
    "This dataframe was set aside for testing. <br>\n",
    "It contains the unique data from the 2018 file that are not present in 2016 file. <br>\n",
    "These records are \"new\" to both the models as only 2016 records were considered for their training.</h3>"
   ]
  },
  {
   "cell_type": "code",
   "execution_count": 60,
   "metadata": {
    "_uuid": "c3b6e36b821b995aab4b88fa284d9f8772b55c59"
   },
   "outputs": [
    {
     "data": {
      "text/html": [
       "<div>\n",
       "<style scoped>\n",
       "    .dataframe tbody tr th:only-of-type {\n",
       "        vertical-align: middle;\n",
       "    }\n",
       "\n",
       "    .dataframe tbody tr th {\n",
       "        vertical-align: top;\n",
       "    }\n",
       "\n",
       "    .dataframe thead th {\n",
       "        text-align: right;\n",
       "    }\n",
       "</style>\n",
       "<table border=\"1\" class=\"dataframe\">\n",
       "  <thead>\n",
       "    <tr style=\"text-align: right;\">\n",
       "      <th></th>\n",
       "      <th>ID</th>\n",
       "      <th>name</th>\n",
       "      <th>category</th>\n",
       "      <th>main_category</th>\n",
       "      <th>currency</th>\n",
       "      <th>deadline</th>\n",
       "      <th>goal</th>\n",
       "      <th>launched</th>\n",
       "      <th>pledged</th>\n",
       "      <th>state</th>\n",
       "      <th>backers</th>\n",
       "      <th>country</th>\n",
       "      <th>usd pledged</th>\n",
       "      <th>usd_pledged_real</th>\n",
       "      <th>usd_goal_real</th>\n",
       "    </tr>\n",
       "  </thead>\n",
       "  <tbody>\n",
       "    <tr>\n",
       "      <th>0</th>\n",
       "      <td>1000003930</td>\n",
       "      <td>Greeting From Earth: ZGAC Arts Capsule For ET</td>\n",
       "      <td>Narrative Film</td>\n",
       "      <td>Film &amp; Video</td>\n",
       "      <td>USD</td>\n",
       "      <td>2017-11-01</td>\n",
       "      <td>30000.0</td>\n",
       "      <td>2017-09-02 04:43:57</td>\n",
       "      <td>2421.00</td>\n",
       "      <td>failed</td>\n",
       "      <td>15</td>\n",
       "      <td>US</td>\n",
       "      <td>100.00</td>\n",
       "      <td>2421.00</td>\n",
       "      <td>30000.00</td>\n",
       "    </tr>\n",
       "    <tr>\n",
       "      <th>1</th>\n",
       "      <td>1000057089</td>\n",
       "      <td>Tombstone: Old West tabletop game and miniatur...</td>\n",
       "      <td>Tabletop Games</td>\n",
       "      <td>Games</td>\n",
       "      <td>GBP</td>\n",
       "      <td>2017-05-03</td>\n",
       "      <td>5000.0</td>\n",
       "      <td>2017-04-05 19:44:18</td>\n",
       "      <td>94175.00</td>\n",
       "      <td>successful</td>\n",
       "      <td>761</td>\n",
       "      <td>GB</td>\n",
       "      <td>57763.78</td>\n",
       "      <td>121857.33</td>\n",
       "      <td>6469.73</td>\n",
       "    </tr>\n",
       "    <tr>\n",
       "      <th>2</th>\n",
       "      <td>1000081649</td>\n",
       "      <td>MikeyJ clothing brand fundraiser</td>\n",
       "      <td>Childrenswear</td>\n",
       "      <td>Fashion</td>\n",
       "      <td>AUD</td>\n",
       "      <td>2017-09-07</td>\n",
       "      <td>2500.0</td>\n",
       "      <td>2017-08-08 01:20:20</td>\n",
       "      <td>1.00</td>\n",
       "      <td>failed</td>\n",
       "      <td>1</td>\n",
       "      <td>AU</td>\n",
       "      <td>0.00</td>\n",
       "      <td>0.81</td>\n",
       "      <td>2026.10</td>\n",
       "    </tr>\n",
       "    <tr>\n",
       "      <th>3</th>\n",
       "      <td>100011318</td>\n",
       "      <td>My Moon - Animated Short Film</td>\n",
       "      <td>Animation</td>\n",
       "      <td>Film &amp; Video</td>\n",
       "      <td>USD</td>\n",
       "      <td>2017-05-03</td>\n",
       "      <td>50000.0</td>\n",
       "      <td>2017-04-03 17:11:33</td>\n",
       "      <td>57577.31</td>\n",
       "      <td>successful</td>\n",
       "      <td>840</td>\n",
       "      <td>US</td>\n",
       "      <td>10120.00</td>\n",
       "      <td>57577.31</td>\n",
       "      <td>50000.00</td>\n",
       "    </tr>\n",
       "    <tr>\n",
       "      <th>4</th>\n",
       "      <td>1000149007</td>\n",
       "      <td>Unschooling To University Book Project</td>\n",
       "      <td>Nonfiction</td>\n",
       "      <td>Publishing</td>\n",
       "      <td>CAD</td>\n",
       "      <td>2018-01-19</td>\n",
       "      <td>3000.0</td>\n",
       "      <td>2017-11-20 18:15:14</td>\n",
       "      <td>592.00</td>\n",
       "      <td>live</td>\n",
       "      <td>24</td>\n",
       "      <td>CA</td>\n",
       "      <td>185.65</td>\n",
       "      <td>472.88</td>\n",
       "      <td>2396.36</td>\n",
       "    </tr>\n",
       "  </tbody>\n",
       "</table>\n",
       "</div>"
      ],
      "text/plain": [
       "           ID                                               name  \\\n",
       "0  1000003930      Greeting From Earth: ZGAC Arts Capsule For ET   \n",
       "1  1000057089  Tombstone: Old West tabletop game and miniatur...   \n",
       "2  1000081649                   MikeyJ clothing brand fundraiser   \n",
       "3   100011318                      My Moon - Animated Short Film   \n",
       "4  1000149007             Unschooling To University Book Project   \n",
       "\n",
       "         category main_category currency    deadline     goal  \\\n",
       "0  Narrative Film  Film & Video      USD  2017-11-01  30000.0   \n",
       "1  Tabletop Games         Games      GBP  2017-05-03   5000.0   \n",
       "2   Childrenswear       Fashion      AUD  2017-09-07   2500.0   \n",
       "3       Animation  Film & Video      USD  2017-05-03  50000.0   \n",
       "4      Nonfiction    Publishing      CAD  2018-01-19   3000.0   \n",
       "\n",
       "              launched   pledged       state  backers country  usd pledged  \\\n",
       "0  2017-09-02 04:43:57   2421.00      failed       15      US       100.00   \n",
       "1  2017-04-05 19:44:18  94175.00  successful      761      GB     57763.78   \n",
       "2  2017-08-08 01:20:20      1.00      failed        1      AU         0.00   \n",
       "3  2017-04-03 17:11:33  57577.31  successful      840      US     10120.00   \n",
       "4  2017-11-20 18:15:14    592.00        live       24      CA       185.65   \n",
       "\n",
       "   usd_pledged_real  usd_goal_real  \n",
       "0           2421.00       30000.00  \n",
       "1         121857.33        6469.73  \n",
       "2              0.81        2026.10  \n",
       "3          57577.31       50000.00  \n",
       "4            472.88        2396.36  "
      ]
     },
     "execution_count": 60,
     "metadata": {},
     "output_type": "execute_result"
    }
   ],
   "source": [
    "kick_start_unique.head()"
   ]
  },
  {
   "cell_type": "markdown",
   "metadata": {
    "_uuid": "99390e8363d3b34f27e536e5f363a66f80c0900e"
   },
   "source": [
    " Initializing the \"expected\" outputs and dropping the 'state' column from test_data"
   ]
  },
  {
   "cell_type": "code",
   "execution_count": 61,
   "metadata": {
    "_uuid": "22247906fbba42cd4638b92a18cbb69148a706d9"
   },
   "outputs": [
    {
     "data": {
      "text/plain": [
       "0        failed\n",
       "1    successful\n",
       "2        failed\n",
       "3    successful\n",
       "4          live\n",
       "5    successful\n",
       "6        failed\n",
       "7        failed\n",
       "8        failed\n",
       "9    successful\n",
       "Name: state, dtype: object"
      ]
     },
     "execution_count": 61,
     "metadata": {},
     "output_type": "execute_result"
    }
   ],
   "source": [
    "expected_outputs = kick_start_unique['state']\n",
    "expected_outputs[:10]"
   ]
  },
  {
   "cell_type": "code",
   "execution_count": 62,
   "metadata": {
    "_uuid": "5c6b3029ac2e4771a38ecc9101027ddb3ce2f7bc"
   },
   "outputs": [
    {
     "data": {
      "text/html": [
       "<div>\n",
       "<style scoped>\n",
       "    .dataframe tbody tr th:only-of-type {\n",
       "        vertical-align: middle;\n",
       "    }\n",
       "\n",
       "    .dataframe tbody tr th {\n",
       "        vertical-align: top;\n",
       "    }\n",
       "\n",
       "    .dataframe thead th {\n",
       "        text-align: right;\n",
       "    }\n",
       "</style>\n",
       "<table border=\"1\" class=\"dataframe\">\n",
       "  <thead>\n",
       "    <tr style=\"text-align: right;\">\n",
       "      <th></th>\n",
       "      <th>ID</th>\n",
       "      <th>name</th>\n",
       "      <th>category</th>\n",
       "      <th>main_category</th>\n",
       "      <th>currency</th>\n",
       "      <th>deadline</th>\n",
       "      <th>goal</th>\n",
       "      <th>launched</th>\n",
       "      <th>pledged</th>\n",
       "      <th>backers</th>\n",
       "      <th>country</th>\n",
       "      <th>usd pledged</th>\n",
       "      <th>usd_pledged_real</th>\n",
       "      <th>usd_goal_real</th>\n",
       "      <th>state</th>\n",
       "    </tr>\n",
       "  </thead>\n",
       "  <tbody>\n",
       "    <tr>\n",
       "      <th>0</th>\n",
       "      <td>1000003930</td>\n",
       "      <td>Greeting From Earth: ZGAC Arts Capsule For ET</td>\n",
       "      <td>Narrative Film</td>\n",
       "      <td>Film &amp; Video</td>\n",
       "      <td>USD</td>\n",
       "      <td>2017-11-01</td>\n",
       "      <td>30000.0</td>\n",
       "      <td>2017-09-02 04:43:57</td>\n",
       "      <td>2421.00</td>\n",
       "      <td>15</td>\n",
       "      <td>US</td>\n",
       "      <td>100.00</td>\n",
       "      <td>2421.00</td>\n",
       "      <td>30000.00</td>\n",
       "      <td>None</td>\n",
       "    </tr>\n",
       "    <tr>\n",
       "      <th>1</th>\n",
       "      <td>1000057089</td>\n",
       "      <td>Tombstone: Old West tabletop game and miniatur...</td>\n",
       "      <td>Tabletop Games</td>\n",
       "      <td>Games</td>\n",
       "      <td>GBP</td>\n",
       "      <td>2017-05-03</td>\n",
       "      <td>5000.0</td>\n",
       "      <td>2017-04-05 19:44:18</td>\n",
       "      <td>94175.00</td>\n",
       "      <td>761</td>\n",
       "      <td>GB</td>\n",
       "      <td>57763.78</td>\n",
       "      <td>121857.33</td>\n",
       "      <td>6469.73</td>\n",
       "      <td>None</td>\n",
       "    </tr>\n",
       "    <tr>\n",
       "      <th>2</th>\n",
       "      <td>1000081649</td>\n",
       "      <td>MikeyJ clothing brand fundraiser</td>\n",
       "      <td>Childrenswear</td>\n",
       "      <td>Fashion</td>\n",
       "      <td>AUD</td>\n",
       "      <td>2017-09-07</td>\n",
       "      <td>2500.0</td>\n",
       "      <td>2017-08-08 01:20:20</td>\n",
       "      <td>1.00</td>\n",
       "      <td>1</td>\n",
       "      <td>AU</td>\n",
       "      <td>0.00</td>\n",
       "      <td>0.81</td>\n",
       "      <td>2026.10</td>\n",
       "      <td>None</td>\n",
       "    </tr>\n",
       "    <tr>\n",
       "      <th>3</th>\n",
       "      <td>100011318</td>\n",
       "      <td>My Moon - Animated Short Film</td>\n",
       "      <td>Animation</td>\n",
       "      <td>Film &amp; Video</td>\n",
       "      <td>USD</td>\n",
       "      <td>2017-05-03</td>\n",
       "      <td>50000.0</td>\n",
       "      <td>2017-04-03 17:11:33</td>\n",
       "      <td>57577.31</td>\n",
       "      <td>840</td>\n",
       "      <td>US</td>\n",
       "      <td>10120.00</td>\n",
       "      <td>57577.31</td>\n",
       "      <td>50000.00</td>\n",
       "      <td>None</td>\n",
       "    </tr>\n",
       "    <tr>\n",
       "      <th>4</th>\n",
       "      <td>1000149007</td>\n",
       "      <td>Unschooling To University Book Project</td>\n",
       "      <td>Nonfiction</td>\n",
       "      <td>Publishing</td>\n",
       "      <td>CAD</td>\n",
       "      <td>2018-01-19</td>\n",
       "      <td>3000.0</td>\n",
       "      <td>2017-11-20 18:15:14</td>\n",
       "      <td>592.00</td>\n",
       "      <td>24</td>\n",
       "      <td>CA</td>\n",
       "      <td>185.65</td>\n",
       "      <td>472.88</td>\n",
       "      <td>2396.36</td>\n",
       "      <td>None</td>\n",
       "    </tr>\n",
       "  </tbody>\n",
       "</table>\n",
       "</div>"
      ],
      "text/plain": [
       "           ID                                               name  \\\n",
       "0  1000003930      Greeting From Earth: ZGAC Arts Capsule For ET   \n",
       "1  1000057089  Tombstone: Old West tabletop game and miniatur...   \n",
       "2  1000081649                   MikeyJ clothing brand fundraiser   \n",
       "3   100011318                      My Moon - Animated Short Film   \n",
       "4  1000149007             Unschooling To University Book Project   \n",
       "\n",
       "         category main_category currency    deadline     goal  \\\n",
       "0  Narrative Film  Film & Video      USD  2017-11-01  30000.0   \n",
       "1  Tabletop Games         Games      GBP  2017-05-03   5000.0   \n",
       "2   Childrenswear       Fashion      AUD  2017-09-07   2500.0   \n",
       "3       Animation  Film & Video      USD  2017-05-03  50000.0   \n",
       "4      Nonfiction    Publishing      CAD  2018-01-19   3000.0   \n",
       "\n",
       "              launched   pledged  backers country  usd pledged  \\\n",
       "0  2017-09-02 04:43:57   2421.00       15      US       100.00   \n",
       "1  2017-04-05 19:44:18  94175.00      761      GB     57763.78   \n",
       "2  2017-08-08 01:20:20      1.00        1      AU         0.00   \n",
       "3  2017-04-03 17:11:33  57577.31      840      US     10120.00   \n",
       "4  2017-11-20 18:15:14    592.00       24      CA       185.65   \n",
       "\n",
       "   usd_pledged_real  usd_goal_real state  \n",
       "0           2421.00       30000.00  None  \n",
       "1         121857.33        6469.73  None  \n",
       "2              0.81        2026.10  None  \n",
       "3          57577.31       50000.00  None  \n",
       "4            472.88        2396.36  None  "
      ]
     },
     "execution_count": 62,
     "metadata": {},
     "output_type": "execute_result"
    }
   ],
   "source": [
    "test_data = kick_start_unique.drop(['state'], axis=1)\n",
    "test_data['state'] = None\n",
    "test_data.head()"
   ]
  },
  {
   "cell_type": "markdown",
   "metadata": {
    "_uuid": "52c60db1fc2fee62336d05db6f792e518600e8eb"
   },
   "source": [
    "<h2> Final Model Predictions <h2>"
   ]
  },
  {
   "cell_type": "code",
   "execution_count": 63,
   "metadata": {
    "_uuid": "d30cac5ad0f79c558e47b25f31a47af006b69148"
   },
   "outputs": [
    {
     "name": "stdout",
     "output_type": "stream",
     "text": [
      "Getting predictions on the Test dataset took 106.4665780787052 seconds\n"
     ]
    }
   ],
   "source": [
    "start = time.perf_counter()\n",
    "\n",
    "results = {'predicted':[], 'expected': list(expected_outputs)}\n",
    "for index,row in test_data.iterrows():\n",
    "    results['predicted'].append(predict(row, d_tree, model))  \n",
    "\n",
    "end = time.perf_counter()\n",
    "print ('Getting predictions on the Test dataset took ' + \n",
    "       str(end - start) + ' seconds')"
   ]
  },
  {
   "cell_type": "code",
   "execution_count": 64,
   "metadata": {
    "_uuid": "e289ebdbdf9cb93fc12211a38b6302fb8ee72bd2"
   },
   "outputs": [],
   "source": [
    "results_df = pd.DataFrame(results)\n",
    "results_df.to_csv('unseen_test_predictions.csv')"
   ]
  },
  {
   "cell_type": "code",
   "execution_count": 65,
   "metadata": {
    "_uuid": "d0b95f3070f1d3c6e7770e6bfdb4726b8e10273a"
   },
   "outputs": [
    {
     "name": "stdout",
     "output_type": "stream",
     "text": [
      "\n",
      "True Positives = 45667\t\tTrue Pos. Percentage = 83.16548596820309\n",
      "\n",
      "Errors = 9244\t\t\tError Percentage = 16.834514031796907\n"
     ]
    }
   ],
   "source": [
    "display_results_data(results_df)"
   ]
  },
  {
   "cell_type": "markdown",
   "metadata": {
    "_uuid": "034f3883ebba5e85587c4bd53bd63cb9e34c12dd"
   },
   "source": [
    "<h1> So, the accuracy of the combined, symbiotic models, averages ~83% on unseen data </h1>"
   ]
  },
  {
   "cell_type": "markdown",
   "metadata": {
    "_uuid": "6d956d5f87ea41fdb880f353869c2e5607de6a57"
   },
   "source": [
    "P.S: <br>\n",
    "We can observe from the results file that most of the misclassified records are for values in the 'state' column that are neither success or failure. This can be explained by noting that distribution of states in the training and test data is highly unbalanced with most records having failure and sucess instances (perhaps 83%) as compared to 'undefined', 'cancelled', 'live' etc.  "
   ]
  },
  {
   "cell_type": "code",
   "execution_count": null,
   "metadata": {
    "_uuid": "027f882b80747ce2d445712f506546130934f4d0"
   },
   "outputs": [],
   "source": []
  }
 ],
 "metadata": {
  "kernelspec": {
   "display_name": "Python 3",
   "language": "python",
   "name": "python3"
  },
  "language_info": {
   "codemirror_mode": {
    "name": "ipython",
    "version": 3
   },
   "file_extension": ".py",
   "mimetype": "text/x-python",
   "name": "python",
   "nbconvert_exporter": "python",
   "pygments_lexer": "ipython3",
   "version": "3.6.4"
  }
 },
 "nbformat": 4,
 "nbformat_minor": 1
}
