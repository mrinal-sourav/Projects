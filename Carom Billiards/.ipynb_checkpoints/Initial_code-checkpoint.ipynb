{
 "cells": [
  {
   "cell_type": "code",
   "execution_count": 1,
   "metadata": {},
   "outputs": [],
   "source": [
    "import pygame\n",
    "import random\n",
    "import math"
   ]
  },
  {
   "cell_type": "code",
   "execution_count": 9,
   "metadata": {},
   "outputs": [],
   "source": [
    "x = [x for x in range(0,800,10)]\n"
   ]
  },
  {
   "cell_type": "code",
   "execution_count": null,
   "metadata": {},
   "outputs": [],
   "source": []
  },
  {
   "cell_type": "code",
   "execution_count": 10,
   "metadata": {},
   "outputs": [],
   "source": [
    "y = [math.radians(a) for a in x]"
   ]
  },
  {
   "cell_type": "code",
   "execution_count": 12,
   "metadata": {},
   "outputs": [],
   "source": [
    "z = [a%360 for a in x]"
   ]
  },
  {
   "cell_type": "code",
   "execution_count": 13,
   "metadata": {},
   "outputs": [
    {
     "data": {
      "text/plain": [
       "[0,\n",
       " 10,\n",
       " 20,\n",
       " 30,\n",
       " 40,\n",
       " 50,\n",
       " 60,\n",
       " 70,\n",
       " 80,\n",
       " 90,\n",
       " 100,\n",
       " 110,\n",
       " 120,\n",
       " 130,\n",
       " 140,\n",
       " 150,\n",
       " 160,\n",
       " 170,\n",
       " 180,\n",
       " 190,\n",
       " 200,\n",
       " 210,\n",
       " 220,\n",
       " 230,\n",
       " 240,\n",
       " 250,\n",
       " 260,\n",
       " 270,\n",
       " 280,\n",
       " 290,\n",
       " 300,\n",
       " 310,\n",
       " 320,\n",
       " 330,\n",
       " 340,\n",
       " 350,\n",
       " 0,\n",
       " 10,\n",
       " 20,\n",
       " 30,\n",
       " 40,\n",
       " 50,\n",
       " 60,\n",
       " 70,\n",
       " 80,\n",
       " 90,\n",
       " 100,\n",
       " 110,\n",
       " 120,\n",
       " 130,\n",
       " 140,\n",
       " 150,\n",
       " 160,\n",
       " 170,\n",
       " 180,\n",
       " 190,\n",
       " 200,\n",
       " 210,\n",
       " 220,\n",
       " 230,\n",
       " 240,\n",
       " 250,\n",
       " 260,\n",
       " 270,\n",
       " 280,\n",
       " 290,\n",
       " 300,\n",
       " 310,\n",
       " 320,\n",
       " 330,\n",
       " 340,\n",
       " 350,\n",
       " 0,\n",
       " 10,\n",
       " 20,\n",
       " 30,\n",
       " 40,\n",
       " 50,\n",
       " 60,\n",
       " 70]"
      ]
     },
     "execution_count": 13,
     "metadata": {},
     "output_type": "execute_result"
    }
   ],
   "source": [
    "z"
   ]
  },
  {
   "cell_type": "code",
   "execution_count": 14,
   "metadata": {},
   "outputs": [],
   "source": [
    "t = [math.degrees(b) for b in y]"
   ]
  },
  {
   "cell_type": "code",
   "execution_count": 16,
   "metadata": {},
   "outputs": [
    {
     "data": {
      "text/plain": [
       "-2.356194490192345"
      ]
     },
     "execution_count": 16,
     "metadata": {},
     "output_type": "execute_result"
    }
   ],
   "source": [
    "math.atan2(-1,-1)"
   ]
  },
  {
   "cell_type": "code",
   "execution_count": 20,
   "metadata": {},
   "outputs": [
    {
     "data": {
      "text/plain": [
       "-0.7853981633974483"
      ]
     },
     "execution_count": 20,
     "metadata": {},
     "output_type": "execute_result"
    }
   ],
   "source": [
    "math.atan2(-1,1)"
   ]
  },
  {
   "cell_type": "code",
   "execution_count": 2,
   "metadata": {},
   "outputs": [],
   "source": [
    "# game parameter initialization:\n",
    "\n",
    "#window size\n",
    "display_width =  1020 \n",
    "display_height = 820\n",
    "\n",
    "#table boundaries\n",
    "top = 10\n",
    "right = 400\n",
    "left = 10\n",
    "bottom = 500\n",
    "\n",
    "#colors\n",
    "black = (0,0,0)\n",
    "white = (255,255,255)\n",
    "red = (255,0,0)\n",
    "green = (0,255,0) \n",
    "blue = (0,0,255)\n",
    "dark_green = (30,90,5)\n",
    "\n",
    "# to keep score \n",
    "score_board = {'score': [0, 0], 'player': ['I', 'You']} \n",
    "\n",
    "# game initiations:  \n",
    "pygame.init()\n",
    "game_display = pygame.display.set_mode((display_width, display_height))\n",
    "clock = pygame.time.Clock()"
   ]
  },
  {
   "cell_type": "code",
   "execution_count": 6,
   "metadata": {},
   "outputs": [],
   "source": [
    "# the ball class \n",
    "\n",
    "class Ball:\n",
    "    \n",
    "    def __init__(self, size = 10, position = (int(display_width/2),int(display_height/2)), color = (0,0,0)):\n",
    "        self.size =  size\n",
    "        self.pos = position\n",
    "        self.color = color\n",
    "        \n",
    "    def display(self):\n",
    "        pygame.draw.circle(game_display,  self.color, self.pos, self.size)"
   ]
  },
  {
   "cell_type": "code",
   "execution_count": 7,
   "metadata": {},
   "outputs": [],
   "source": [
    "# functions for the game\n",
    "\n",
    "def text_objects(score, font):\n",
    "    text_surface = font.render(score, True, black) \n",
    "    return text_surface, text_surface.get_rect()\n",
    "    \n",
    "\n",
    "def message_display(score_board):\n",
    "    text = pygame.font.Font('freesansbold.ttf', 20)\n",
    "    text_surface_1, text_frame_1 = text_objects(score_board['player'][0] +' : '+ str(score_board['score'][0]), text)\n",
    "    text_surface_2, text_frame_2 = text_objects(score_board['player'][1] +' : '+ str(score_board['score'][1]), text)\n",
    "    text_frame_1.center = (((display_width - 100), (100)))\n",
    "    text_frame_2.center = (((display_width - 100), (125)))\n",
    "    game_display.blit(text_surface_1, text_frame_1)\n",
    "    game_display.blit(text_surface_2, text_frame_2)\n",
    "\n",
    "def game_loop():\n",
    "\n",
    "    stop = False\n",
    "    while not stop:\n",
    "\n",
    "        for event in pygame.event.get():\n",
    "            if event.type == pygame.QUIT:\n",
    "                stop = True\n",
    "                \n",
    "        game_display.fill(dark_green)\n",
    "        \n",
    "        q_ball = Ball(color = white)\n",
    "        q_ball.display()\n",
    "        message_display(score_board)\n",
    "        pygame.display.update()\n",
    "        clock.tick(60)\n",
    "\n",
    "game_loop()\n",
    "pygame.quit()\n",
    "quit()"
   ]
  },
  {
   "cell_type": "code",
   "execution_count": null,
   "metadata": {},
   "outputs": [],
   "source": []
  }
 ],
 "metadata": {
  "kernelspec": {
   "display_name": "Python 3",
   "language": "python",
   "name": "python3"
  },
  "language_info": {
   "codemirror_mode": {
    "name": "ipython",
    "version": 3
   },
   "file_extension": ".py",
   "mimetype": "text/x-python",
   "name": "python",
   "nbconvert_exporter": "python",
   "pygments_lexer": "ipython3",
   "version": "3.6.4"
  }
 },
 "nbformat": 4,
 "nbformat_minor": 2
}
